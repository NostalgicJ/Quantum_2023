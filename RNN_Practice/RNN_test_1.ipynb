{
 "cells": [
  {
   "cell_type": "code",
   "execution_count": 1,
   "metadata": {},
   "outputs": [],
   "source": [
    "import numpy as np\n",
    "import pandas as pd\n",
    "from sklearn.model_selection import train_test_split\n",
    "from tensorflow.keras.models import Model\n",
    "from tensorflow.keras.layers import Input, SimpleRNN, Dense, Embedding, RepeatVector, Concatenate, TimeDistributed\n",
    "from tensorflow.keras.preprocessing.sequence import pad_sequences\n",
    "from tensorflow.keras.utils import plot_model\n",
    "import matplotlib.pyplot as plt\n",
    "\n",
    "class RNNModel:\n",
    "    def __init__(self, max_seq_length):\n",
    "        # 모델 구성\n",
    "        \n",
    "        # Input : 데이터 Tensor화\n",
    "        theta_input = Input(shape=(1,), name='theta_input')\n",
    "        phi_input = Input(shape=(1,), name='phi_input')\n",
    "        sequence_input = Input(shape=(max_seq_length,), name='sequence_input')\n",
    "\n",
    "        # RepeatVector : sequence와 동일한 길이로 확장\n",
    "        # 각 시퀀스의 모든 단계(원소 스텝 = 타임 스텝)에서 동일한 theta와 phi 값 반복 사용\n",
    "        theta_repeated = RepeatVector(max_seq_length)(theta_input)\n",
    "        phi_repeated = RepeatVector(max_seq_length)(phi_input)\n",
    "        # Embedding : 시퀀스 내의 각 숫자(최대 정수 값 +1 = 5)를 32차원 벡터로 변환\n",
    "        sequence_embedding = Embedding(5, 32, input_length=max_seq_length)(sequence_input)\n",
    "        \n",
    "        # Concatenate : 입력을 연결, 여러 입력 정보 합침\n",
    "        # 입력 레이어\n",
    "        concat_layer = Concatenate()([theta_repeated, phi_repeated, sequence_embedding])\n",
    "        # RNN 레이어 1\n",
    "        rnn_layer = SimpleRNN(32, return_sequences=True)(concat_layer)\n",
    "        # RNN 레이어 2\n",
    "        rnn_layer2 = SimpleRNN(64, return_sequences=True)(rnn_layer)\n",
    "        # TimeDistributed : Dense 레이어를 각 시간 단계에 독립적으로 적용, 시퀀스의 각 시간 단계에서 동일한 Dense 레이어가 적용\n",
    "        # ... 시퀀스의 각 시간 단계를 독립적으로 예측 가능\n",
    "        # Dense : 출력 뉴런 5개(= 출력 공간 차원), softmax 활성화 함수 사용하는 Dense layer\n",
    "        # 출력 레이어\n",
    "        output = TimeDistributed(Dense(5, activation='softmax'))(rnn_layer2)\n",
    "\n",
    "        self.model = Model(inputs=[theta_input, phi_input, sequence_input], outputs=output)\n",
    "        # plot_model(self.model, show_shapes=True)\n",
    "        self.model.compile(loss='sparse_categorical_crossentropy', optimizer='adam', metrics=['accuracy'])\n",
    "\n",
    "    def fit(self, theta, phi, sequence, epochs=50):\n",
    "        # 데이터셋 분리 train_set 8 : validation_set 2\n",
    "        sequence_train, sequence_val, theta_train, theta_val, phi_train, phi_val = train_test_split(sequence, theta, phi, test_size=0.2)\n",
    "\n",
    "        self.history = self.model.fit(\n",
    "            {'theta_input': theta_train, 'phi_input': phi_train, 'sequence_input': sequence_train},\n",
    "            np.expand_dims(sequence_train, -1), \n",
    "            validation_data=({'theta_input': theta_val, 'phi_input': phi_val, \n",
    "                              'sequence_input': sequence_val}, np.expand_dims(sequence_val, -1)), epochs=epochs, batch_size=64)\n",
    "        # batch 64개로 나누어 50 epoch 만큼 반복\n",
    "\n",
    "    def summary(self):\n",
    "        self.model.summary()\n",
    "    \n",
    "    def plot_history(self):\n",
    "         # Plot training & validation loss values\n",
    "        plt.plot(self.history.history['loss'])\n",
    "        plt.plot(self.history.history['val_loss'])\n",
    "        plt.title('Model loss')\n",
    "        plt.ylabel('Loss')\n",
    "        plt.xlabel('Epoch')\n",
    "        plt.legend(['Train', 'Validation'], loc='upper right')\n",
    "        plt.show()\n",
    "\n",
    "        # Plot training & validation accuracy values\n",
    "        plt.plot(self.history.history['accuracy'])\n",
    "        plt.plot(self.history.history['val_accuracy'])\n",
    "        plt.title('Model accuracy')\n",
    "        plt.ylabel('Accuracy')\n",
    "        plt.xlabel('Epoch')\n",
    "        plt.legend(['Train', 'Validation'], loc='upper right')\n",
    "        plt.show()\n",
    "\n",
    "    def evaluate(self, theta, phi, sequence):\n",
    "        loss, acc = self.model.evaluate({'theta_input': theta, 'phi_input': phi, 'sequence_input': sequence}, np.expand_dims(sequence, -1))\n",
    "        print(\"Test Accuracy: {:.2f}\".format(acc*100))"
   ]
  },
  {
   "cell_type": "code",
   "execution_count": 3,
   "metadata": {},
   "outputs": [
    {
     "name": "stdout",
     "output_type": "stream",
     "text": [
      "<class 'pandas.core.frame.DataFrame'>\n",
      "RangeIndex: 12350 entries, 0 to 12349\n",
      "Data columns (total 7 columns):\n",
      " #   Column          Non-Null Count  Dtype  \n",
      "---  ------          --------------  -----  \n",
      " 0   gate length     12350 non-null  int64  \n",
      " 1   Theta           12350 non-null  float64\n",
      " 2   Phi             12350 non-null  float64\n",
      " 3   dt              12350 non-null  float64\n",
      " 4   combination     12350 non-null  object \n",
      " 5   total time      12350 non-null  float64\n",
      " 6   computing time  12350 non-null  float64\n",
      "dtypes: float64(5), int64(1), object(1)\n",
      "memory usage: 675.5+ KB\n"
     ]
    }
   ],
   "source": [
    "# CSV 파일에서 데이터 읽기\n",
    "df = pd.read_csv('NVspinData_None_-1_230807.csv')\n",
    "\n",
    "# 데이터셋 분리 - train_set(train) 8 : test_set 2\n",
    "train_set, test_set = train_test_split(df, shuffle=True, test_size=0.2)\n",
    "\n",
    "df.info()"
   ]
  },
  {
   "cell_type": "code",
   "execution_count": 4,
   "metadata": {},
   "outputs": [],
   "source": [
    "# train_set 데이터 전처리 (train+validation)\n",
    "theta_tv = train_set['Theta'].values.reshape(-1, 1)\n",
    "phi_tv = train_set['Phi'].values.reshape(-1, 1)\n",
    "sequence_tv = train_set['combination'].apply(eval).to_list()\n",
    "max_seq_length_tv = max(len(seq) for seq in sequence_tv)\n",
    "sequence_padded_tv = pad_sequences(sequence_tv, maxlen=max_seq_length_tv)\n",
    "\n",
    "# test_set 데이터 전처리 (final_test)\n",
    "theta_test = test_set['Theta'].values.reshape(-1, 1)\n",
    "phi_test = test_set['Phi'].values.reshape(-1, 1)\n",
    "sequence_test = test_set['combination'].apply(eval).to_list()\n",
    "max_seq_length_test = max(len(seq) for seq in sequence_test)\n",
    "sequence_padded_test = pad_sequences(sequence_test, maxlen=max_seq_length_test)"
   ]
  },
  {
   "cell_type": "code",
   "execution_count": 10,
   "metadata": {},
   "outputs": [
    {
     "name": "stdout",
     "output_type": "stream",
     "text": [
      "KerasTensor(type_spec=TensorSpec(shape=(None, 35, 32), dtype=tf.float32, name=None), name='embedding_5/embedding_lookup/Identity:0', description=\"created by layer 'embedding_5'\")\n"
     ]
    },
    {
     "ename": "AttributeError",
     "evalue": "'RNNModel' object has no attribute 'summary'",
     "output_type": "error",
     "traceback": [
      "\u001b[1;31m---------------------------------------------------------------------------\u001b[0m",
      "\u001b[1;31mAttributeError\u001b[0m                            Traceback (most recent call last)",
      "Cell \u001b[1;32mIn[10], line 4\u001b[0m\n\u001b[0;32m      1\u001b[0m \u001b[39m# 모델 초기화\u001b[39;00m\n\u001b[0;32m      2\u001b[0m rnn_model \u001b[39m=\u001b[39m RNNModel(max_seq_length_tv)\n\u001b[1;32m----> 4\u001b[0m rnn_model\u001b[39m.\u001b[39;49msummary(rnn_model)\n\u001b[0;32m      6\u001b[0m \u001b[39m# # 모델 학습\u001b[39;00m\n\u001b[0;32m      7\u001b[0m \u001b[39m# rnn_model.fit(theta_tv, phi_tv, sequence_padded_tv)\u001b[39;00m\n\u001b[0;32m      8\u001b[0m \n\u001b[1;32m   (...)\u001b[0m\n\u001b[0;32m     12\u001b[0m \u001b[39m# # 모델 성능 평가\u001b[39;00m\n\u001b[0;32m     13\u001b[0m \u001b[39m# rnn_model.evaluate(theta_test, phi_test, sequence_padded_test)\u001b[39;00m\n",
      "\u001b[1;31mAttributeError\u001b[0m: 'RNNModel' object has no attribute 'summary'"
     ]
    }
   ],
   "source": [
    "# 모델 초기화\n",
    "rnn_model = RNNModel(max_seq_length_tv)\n",
    "\n",
    "rnn_model.summary(rnn_model)\n",
    "\n",
    "# # 모델 학습\n",
    "# rnn_model.fit(theta_tv, phi_tv, sequence_padded_tv)\n",
    "\n",
    "# # 결과 그래프 그리기\n",
    "# rnn_model.plot_history()\n",
    "\n",
    "# # 모델 성능 평가\n",
    "# rnn_model.evaluate(theta_test, phi_test, sequence_padded_test)"
   ]
  }
 ],
 "metadata": {
  "kernelspec": {
   "display_name": "Python 3",
   "language": "python",
   "name": "python3"
  },
  "language_info": {
   "codemirror_mode": {
    "name": "ipython",
    "version": 3
   },
   "file_extension": ".py",
   "mimetype": "text/x-python",
   "name": "python",
   "nbconvert_exporter": "python",
   "pygments_lexer": "ipython3",
   "version": "3.10.5"
  },
  "orig_nbformat": 4
 },
 "nbformat": 4,
 "nbformat_minor": 2
}
