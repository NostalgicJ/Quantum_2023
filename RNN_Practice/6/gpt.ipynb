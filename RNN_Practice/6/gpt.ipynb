{
 "cells": [
  {
   "cell_type": "code",
   "execution_count": 2,
   "metadata": {},
   "outputs": [],
   "source": [
    "import numpy as np\n",
    "import pandas as pd\n",
    "from sklearn.model_selection import train_test_split\n",
    "from tensorflow.keras.models import Model\n",
    "from tensorflow.keras.layers import Input, SimpleRNN, Dense, Concatenate, TimeDistributed, RepeatVector\n",
    "from tensorflow.keras.preprocessing.sequence import pad_sequences\n",
    "\n",
    "# 데이터 불러오기\n",
    "df = pd.read_csv('NVspinData_None_-1_230807.csv')\n",
    "\n",
    "theta = df['Theta'].values\n",
    "phi = df['Phi'].values\n",
    "sequence = [eval(seq) for seq in df['combination'].values]\n",
    "# sequence = df['combination'].apply(eval).tolist()\n",
    "\n",
    "# sequence의 길이가 다를 수 있으므로 pad_sequences를 사용하여 동일한 길이로 맞춰줍니다.\n",
    "max_seq_length = max([len(seq) for seq in sequence])\n",
    "sequence_padded = pad_sequences(sequence, maxlen=max_seq_length, padding='post')\n",
    "\n",
    "theta_train, theta_test, phi_train, phi_test, sequence_train, sequence_test = train_test_split(theta, \n",
    "                                                                                               phi, \n",
    "                                                                                               sequence_padded, test_size=0.2)\n",
    "theta_train, theta_val, phi_train, phi_val, sequence_train, sequence_val = train_test_split(theta_train, \n",
    "                                                                                            phi_train, \n",
    "                                                                                            sequence_train, test_size=0.2)\n"
   ]
  },
  {
   "cell_type": "code",
   "execution_count": 3,
   "metadata": {},
   "outputs": [
    {
     "name": "stdout",
     "output_type": "stream",
     "text": [
      "Epoch 1/50\n",
      "124/124 [==============================] - 2s 8ms/step - loss: 1.0324 - accuracy: 0.5590 - val_loss: 0.8634 - val_accuracy: 0.6004\n",
      "Epoch 2/50\n",
      "124/124 [==============================] - 1s 7ms/step - loss: 0.8197 - accuracy: 0.6135 - val_loss: 0.8123 - val_accuracy: 0.6119\n",
      "Epoch 3/50\n",
      "124/124 [==============================] - 1s 7ms/step - loss: 0.7919 - accuracy: 0.6239 - val_loss: 0.7980 - val_accuracy: 0.6204\n",
      "Epoch 4/50\n",
      "124/124 [==============================] - 1s 7ms/step - loss: 0.7796 - accuracy: 0.6313 - val_loss: 0.7801 - val_accuracy: 0.6333\n",
      "Epoch 5/50\n",
      "124/124 [==============================] - 1s 6ms/step - loss: 0.7491 - accuracy: 0.6597 - val_loss: 0.6682 - val_accuracy: 0.7177\n",
      "Epoch 6/50\n",
      "124/124 [==============================] - 1s 7ms/step - loss: 0.5569 - accuracy: 0.7795 - val_loss: 0.4883 - val_accuracy: 0.8163\n",
      "Epoch 7/50\n",
      "124/124 [==============================] - 1s 6ms/step - loss: 0.4589 - accuracy: 0.8312 - val_loss: 0.4545 - val_accuracy: 0.8286\n",
      "Epoch 8/50\n",
      "124/124 [==============================] - 1s 6ms/step - loss: 0.4318 - accuracy: 0.8410 - val_loss: 0.4272 - val_accuracy: 0.8481\n",
      "Epoch 9/50\n",
      "124/124 [==============================] - 1s 8ms/step - loss: 0.4155 - accuracy: 0.8495 - val_loss: 0.4081 - val_accuracy: 0.8516\n",
      "Epoch 10/50\n",
      "124/124 [==============================] - 1s 8ms/step - loss: 0.3953 - accuracy: 0.8574 - val_loss: 0.3953 - val_accuracy: 0.8598\n",
      "Epoch 11/50\n",
      "124/124 [==============================] - 1s 8ms/step - loss: 0.3827 - accuracy: 0.8636 - val_loss: 0.3973 - val_accuracy: 0.8528\n",
      "Epoch 12/50\n",
      "124/124 [==============================] - 1s 8ms/step - loss: 0.3701 - accuracy: 0.8702 - val_loss: 0.3761 - val_accuracy: 0.8671\n",
      "Epoch 13/50\n",
      "124/124 [==============================] - 1s 8ms/step - loss: 0.3624 - accuracy: 0.8730 - val_loss: 0.3648 - val_accuracy: 0.8655\n",
      "Epoch 14/50\n",
      "124/124 [==============================] - 1s 7ms/step - loss: 0.3530 - accuracy: 0.8756 - val_loss: 0.3627 - val_accuracy: 0.8743\n",
      "Epoch 15/50\n",
      "124/124 [==============================] - 1s 7ms/step - loss: 0.3502 - accuracy: 0.8768 - val_loss: 0.3543 - val_accuracy: 0.8752\n",
      "Epoch 16/50\n",
      "124/124 [==============================] - 1s 8ms/step - loss: 0.3452 - accuracy: 0.8769 - val_loss: 0.3512 - val_accuracy: 0.8726\n",
      "Epoch 17/50\n",
      "124/124 [==============================] - 1s 7ms/step - loss: 0.3314 - accuracy: 0.8826 - val_loss: 0.3407 - val_accuracy: 0.8730\n",
      "Epoch 18/50\n",
      "124/124 [==============================] - 1s 7ms/step - loss: 0.3310 - accuracy: 0.8810 - val_loss: 0.3278 - val_accuracy: 0.8833\n",
      "Epoch 19/50\n",
      "124/124 [==============================] - 1s 7ms/step - loss: 0.3277 - accuracy: 0.8828 - val_loss: 0.3243 - val_accuracy: 0.8793\n",
      "Epoch 20/50\n",
      "124/124 [==============================] - 1s 7ms/step - loss: 0.3332 - accuracy: 0.8805 - val_loss: 0.3463 - val_accuracy: 0.8703\n",
      "Epoch 21/50\n",
      "124/124 [==============================] - 1s 7ms/step - loss: 0.3208 - accuracy: 0.8847 - val_loss: 0.3201 - val_accuracy: 0.8815\n",
      "Epoch 22/50\n",
      "124/124 [==============================] - 1s 8ms/step - loss: 0.3236 - accuracy: 0.8844 - val_loss: 0.3299 - val_accuracy: 0.8814\n",
      "Epoch 23/50\n",
      "124/124 [==============================] - 1s 9ms/step - loss: 0.3160 - accuracy: 0.8860 - val_loss: 0.3211 - val_accuracy: 0.8882\n",
      "Epoch 24/50\n",
      "124/124 [==============================] - 1s 9ms/step - loss: 0.3135 - accuracy: 0.8867 - val_loss: 0.3117 - val_accuracy: 0.8858\n",
      "Epoch 25/50\n",
      "124/124 [==============================] - 1s 9ms/step - loss: 0.3079 - accuracy: 0.8898 - val_loss: 0.3147 - val_accuracy: 0.8864\n",
      "Epoch 26/50\n",
      "124/124 [==============================] - 1s 9ms/step - loss: 0.3052 - accuracy: 0.8898 - val_loss: 0.3332 - val_accuracy: 0.8824\n",
      "Epoch 27/50\n",
      "124/124 [==============================] - 1s 9ms/step - loss: 0.3078 - accuracy: 0.8880 - val_loss: 0.3183 - val_accuracy: 0.8837\n",
      "Epoch 28/50\n",
      "124/124 [==============================] - 1s 9ms/step - loss: 0.3002 - accuracy: 0.8913 - val_loss: 0.3122 - val_accuracy: 0.8872\n",
      "Epoch 29/50\n",
      "124/124 [==============================] - 1s 9ms/step - loss: 0.3025 - accuracy: 0.8899 - val_loss: 0.3108 - val_accuracy: 0.8868\n",
      "Epoch 30/50\n",
      "124/124 [==============================] - 1s 10ms/step - loss: 0.3016 - accuracy: 0.8900 - val_loss: 0.3091 - val_accuracy: 0.8849\n",
      "Epoch 31/50\n",
      "124/124 [==============================] - 1s 10ms/step - loss: 0.2933 - accuracy: 0.8930 - val_loss: 0.3056 - val_accuracy: 0.8881\n",
      "Epoch 32/50\n",
      "124/124 [==============================] - 1s 9ms/step - loss: 0.2915 - accuracy: 0.8930 - val_loss: 0.3181 - val_accuracy: 0.8799\n",
      "Epoch 33/50\n",
      "124/124 [==============================] - 1s 9ms/step - loss: 0.2986 - accuracy: 0.8898 - val_loss: 0.2927 - val_accuracy: 0.8915\n",
      "Epoch 34/50\n",
      "124/124 [==============================] - 1s 9ms/step - loss: 0.2980 - accuracy: 0.8918 - val_loss: 0.3290 - val_accuracy: 0.8774\n",
      "Epoch 35/50\n",
      "124/124 [==============================] - 1s 10ms/step - loss: 0.2951 - accuracy: 0.8913 - val_loss: 0.2909 - val_accuracy: 0.8949\n",
      "Epoch 36/50\n",
      "124/124 [==============================] - 1s 10ms/step - loss: 0.2911 - accuracy: 0.8937 - val_loss: 0.2926 - val_accuracy: 0.8915\n",
      "Epoch 37/50\n",
      "124/124 [==============================] - 1s 10ms/step - loss: 0.2910 - accuracy: 0.8935 - val_loss: 0.3019 - val_accuracy: 0.8889\n",
      "Epoch 38/50\n",
      "124/124 [==============================] - 1s 10ms/step - loss: 0.2942 - accuracy: 0.8920 - val_loss: 0.3234 - val_accuracy: 0.8761\n",
      "Epoch 39/50\n",
      "124/124 [==============================] - 1s 10ms/step - loss: 0.2889 - accuracy: 0.8933 - val_loss: 0.2827 - val_accuracy: 0.8962\n",
      "Epoch 40/50\n",
      "124/124 [==============================] - 1s 9ms/step - loss: 0.2813 - accuracy: 0.8965 - val_loss: 0.2879 - val_accuracy: 0.8915\n",
      "Epoch 41/50\n",
      "124/124 [==============================] - 1s 10ms/step - loss: 0.2784 - accuracy: 0.8977 - val_loss: 0.2803 - val_accuracy: 0.8956\n",
      "Epoch 42/50\n",
      "124/124 [==============================] - 1s 10ms/step - loss: 0.2851 - accuracy: 0.8934 - val_loss: 0.2914 - val_accuracy: 0.8908\n",
      "Epoch 43/50\n",
      "124/124 [==============================] - 1s 9ms/step - loss: 0.2879 - accuracy: 0.8927 - val_loss: 0.2912 - val_accuracy: 0.8907\n",
      "Epoch 44/50\n",
      "124/124 [==============================] - 1s 10ms/step - loss: 0.2827 - accuracy: 0.8950 - val_loss: 0.2830 - val_accuracy: 0.8937\n",
      "Epoch 45/50\n",
      "124/124 [==============================] - 1s 9ms/step - loss: 0.2742 - accuracy: 0.8977 - val_loss: 0.2844 - val_accuracy: 0.8916\n",
      "Epoch 46/50\n",
      "124/124 [==============================] - 1s 10ms/step - loss: 0.2730 - accuracy: 0.8987 - val_loss: 0.2772 - val_accuracy: 0.8985\n",
      "Epoch 47/50\n",
      "124/124 [==============================] - 1s 10ms/step - loss: 0.2765 - accuracy: 0.8971 - val_loss: 0.2831 - val_accuracy: 0.8921\n",
      "Epoch 48/50\n",
      "124/124 [==============================] - 1s 9ms/step - loss: 0.2737 - accuracy: 0.8973 - val_loss: 0.2841 - val_accuracy: 0.8943\n",
      "Epoch 49/50\n",
      "124/124 [==============================] - 1s 10ms/step - loss: 0.2732 - accuracy: 0.8980 - val_loss: 0.2786 - val_accuracy: 0.8931\n",
      "Epoch 50/50\n",
      "124/124 [==============================] - 1s 11ms/step - loss: 0.2728 - accuracy: 0.8970 - val_loss: 0.2706 - val_accuracy: 0.8984\n",
      "78/78 [==============================] - 0s 4ms/step - loss: 0.2706 - accuracy: 0.8984\n",
      "Test Loss: 0.2706\n",
      "Test Accuracy: 0.8984\n"
     ]
    }
   ],
   "source": [
    "\n",
    "# 모델 정의\n",
    "theta_input = Input(shape=(1,), name='theta_input')\n",
    "phi_input = Input(shape=(1,), name='phi_input')\n",
    "\n",
    "# theta와 phi를 Concatenate\n",
    "merged = Concatenate()([theta_input, phi_input])\n",
    "\n",
    "# 시퀀스를 예측하기 위한 SimpleRNN 레이어\n",
    "repeated_vector = RepeatVector(max_seq_length)(merged)  # max_sequence_length는 시퀀스의 최대 길이\n",
    "rnn_layer = SimpleRNN(64, return_sequences=True, name='rnn_layer')(repeated_vector)\n",
    "output = TimeDistributed(Dense(5, activation='softmax'), name='output_layer')(rnn_layer)\n",
    "\n",
    "model = Model(inputs=[theta_input, phi_input], outputs=output)\n",
    "\n",
    "# 컴파일 및 훈련\n",
    "model.compile(loss='sparse_categorical_crossentropy', optimizer='adam', metrics=['accuracy'])\n",
    "history = model.fit([theta_train, phi_train], np.expand_dims(sequence_train, -1), \n",
    "                    validation_data=([theta_test, phi_test], np.expand_dims(sequence_test, -1)), epochs=50, batch_size=64)\n",
    "\n",
    "# 검증\n",
    "loss, accuracy = model.evaluate([theta_test, phi_test], np.expand_dims(sequence_test, -1))\n",
    "print(f\"Test Loss: {loss:.4f}\")\n",
    "print(f\"Test Accuracy: {accuracy:.4f}\")\n"
   ]
  },
  {
   "cell_type": "code",
   "execution_count": 4,
   "metadata": {},
   "outputs": [
    {
     "name": "stdout",
     "output_type": "stream",
     "text": [
      "1/1 [==============================] - 0s 253ms/step\n",
      "Sample 1:\n",
      "Theta    : 0.37046698\n",
      "Phi      : 5.8710471\n",
      "Actual   : [2 4 4 0 0 0 0 0 0 0 0 0 0 0 0 0 0 0 0 0 0 0 0 0 0 0 0 0 0 0 0 0 0 0 0]\n",
      "Predicted: [4 4 0 0 0 0 0 0 0 0 0 0 0 0 0 0 0 0 0 0 0 0 0 0 0 0 0 0 0 0 0 0 0 0 0]\n",
      "----------\n",
      "Sample 2:\n",
      "Theta    : 2.510039587\n",
      "Phi      : 2.445068157\n",
      "Actual   : [3 3 2 2 4 4 1 1 3 3 2 2 4 4 1 1 3 3 2 2 4 4 1 1 3 3 0 0 0 0 0 0 0 0 0]\n",
      "Predicted: [3 3 2 2 4 4 1 1 3 3 2 2 4 4 1 1 3 3 2 2 4 4 1 1 3 3 0 0 0 0 0 0 0 0 0]\n",
      "----------\n",
      "Sample 3:\n",
      "Theta    : 2.27906514\n",
      "Phi      : 0.320235224\n",
      "Actual   : [4 1 1 3 3 2 2 4 4 1 1 3 3 2 2 4 4 1 1 3 3 2 2 2 4 4 0 0 0 0 0 0 0 0 0]\n",
      "Predicted: [1 1 1 3 3 2 2 4 4 1 1 3 3 2 2 4 4 1 1 3 3 2 2 4 4 4 0 0 0 0 0 0 0 0 0]\n",
      "----------\n",
      "Sample 4:\n",
      "Theta    : 0.030269315\n",
      "Phi      : 0.100776253\n",
      "Actual   : [0 0 0 0 0 0 0 0 0 0 0 0 0 0 0 0 0 0 0 0 0 0 0 0 0 0 0 0 0 0 0 0 0 0 0]\n",
      "Predicted: [4 0 0 0 0 0 0 0 0 0 0 0 0 0 0 0 0 0 0 0 0 0 0 0 0 0 0 0 0 0 0 0 0 0 0]\n",
      "----------\n",
      "Sample 5:\n",
      "Theta    : 2.416460628\n",
      "Phi      : 5.882092611\n",
      "Actual   : [4 1 1 3 3 2 2 4 4 1 1 3 3 2 2 4 4 1 1 3 3 2 2 4 4 1 0 0 0 0 0 0 0 0 0]\n",
      "Predicted: [4 4 1 1 3 3 2 4 4 4 1 1 3 3 2 2 4 4 1 1 3 3 2 2 4 4 0 0 0 0 0 0 0 0 0]\n",
      "----------\n",
      "Sample 6:\n",
      "Theta    : 2.446769378\n",
      "Phi      : 6.108708026\n",
      "Actual   : [4 1 1 3 3 2 2 4 4 1 1 3 3 2 2 4 4 1 1 3 3 2 2 4 4 1 0 0 0 0 0 0 0 0 0]\n",
      "Predicted: [4 4 1 3 3 2 2 4 4 1 1 3 3 2 2 4 4 1 1 3 3 2 2 4 4 1 0 0 0 0 0 0 0 0 0]\n",
      "----------\n",
      "Sample 7:\n",
      "Theta    : 2.86328195\n",
      "Phi      : 2.66277131\n",
      "Actual   : [3 2 2 4 4 1 1 3 3 2 2 4 4 1 1 3 3 2 2 4 4 1 1 3 3 2 2 4 4 4 1 1 0 0 0]\n",
      "Predicted: [3 3 2 2 4 4 1 1 3 3 2 4 4 1 1 3 3 2 2 4 4 1 1 3 3 2 2 4 4 4 1 1 0 0 0]\n",
      "----------\n",
      "Sample 8:\n",
      "Theta    : 2.819782859\n",
      "Phi      : 6.05384307\n",
      "Actual   : [4 1 1 3 3 2 2 4 4 1 1 3 3 2 2 4 4 1 1 3 3 2 2 4 4 1 1 3 3 2 3 2 0 0 0]\n",
      "Predicted: [4 4 1 3 3 2 2 4 4 1 1 3 3 2 2 4 4 1 1 3 3 2 2 4 4 1 1 3 3 3 2 2 2 0 0]\n",
      "----------\n",
      "Sample 9:\n",
      "Theta    : 2.59993541\n",
      "Phi      : 5.206376911\n",
      "Actual   : [4 4 1 1 3 3 2 2 4 4 1 1 3 3 2 2 4 4 1 1 3 3 2 2 4 4 1 1 4 3 0 3 2 0 0]\n",
      "Predicted: [2 4 1 1 3 3 2 2 4 4 1 1 3 3 2 2 4 4 1 1 3 3 2 2 4 4 1 0 0 0 3 3 0 0 0]\n",
      "----------\n",
      "Sample 10:\n",
      "Theta    : 0.953137061\n",
      "Phi      : 2.71599115\n",
      "Actual   : [3 3 2 2 4 4 1 1 1 1 3 0 0 0 0 0 0 0 0 0 0 0 0 0 0 0 0 0 0 0 0 0 0 0 0]\n",
      "Predicted: [3 3 2 2 4 4 1 1 3 3 0 0 0 0 0 0 0 0 0 0 0 0 0 0 0 0 0 0 0 0 0 0 0 0 0]\n",
      "----------\n"
     ]
    }
   ],
   "source": [
    "# 테스트 데이터셋에서 10개의 샘플을 무작위로 선택\n",
    "indices = np.random.choice(len(theta_test), 10)\n",
    "\n",
    "theta_samples = np.array(theta_test)[indices]\n",
    "phi_samples = np.array(phi_test)[indices]\n",
    "sequence_samples = np.array(sequence_test)[indices]\n",
    "\n",
    "# 모델을 사용하여 예측 수행\n",
    "predicted_sequences = model.predict([theta_samples, phi_samples])\n",
    "\n",
    "# 가장 확률이 높은 클래스의 인덱스를 선택\n",
    "predicted_sequences = np.argmax(predicted_sequences, axis=-1)\n",
    "\n",
    "# 결과 출력\n",
    "for i in range(10):\n",
    "    print(f\"Sample {i + 1}:\")\n",
    "    print(\"Theta    :\", theta_samples[i])\n",
    "    print(\"Phi      :\", phi_samples[i])\n",
    "    print(\"Actual   :\", sequence_samples[i])\n",
    "    print(\"Predicted:\", predicted_sequences[i])\n",
    "    print(\"----------\")\n"
   ]
  },
  {
   "cell_type": "code",
   "execution_count": 5,
   "metadata": {},
   "outputs": [
    {
     "name": "stdout",
     "output_type": "stream",
     "text": [
      "1/1 [==============================] - 0s 28ms/step\n",
      "Results saved to rnn_results.csv\n"
     ]
    }
   ],
   "source": [
    "# 테스트 데이터셋에서 10개의 샘플을 무작위로 선택\n",
    "indices = np.random.choice(len(theta_test), 10)\n",
    "\n",
    "theta_samples = np.array(theta_test)[indices]\n",
    "phi_samples = np.array(phi_test)[indices]\n",
    "sequence_samples = np.array(sequence_test)[indices]\n",
    "\n",
    "# 모델을 사용하여 예측 수행\n",
    "predicted_sequences = model.predict([theta_samples, phi_samples])\n",
    "\n",
    "# 가장 확률이 높은 클래스의 인덱스를 선택\n",
    "predicted_sequences = np.argmax(predicted_sequences, axis=-1)\n",
    "\n",
    "# 결과를 DataFrame으로 변환\n",
    "df_results = pd.DataFrame({\n",
    "    'Theta': theta_samples,\n",
    "    'Phi': phi_samples,\n",
    "    'Actual Sequence': [list(seq) for seq in sequence_samples],\n",
    "    'Predicted Sequence': [list(seq) for seq in predicted_sequences]\n",
    "})\n",
    "\n",
    "# 결과를 CSV 파일로 저장\n",
    "df_results.to_csv('rnn_results2.csv', index=False)\n",
    "\n",
    "print(\"Results saved to rnn_results.csv\")\n"
   ]
  },
  {
   "cell_type": "code",
   "execution_count": 6,
   "metadata": {},
   "outputs": [
    {
     "name": "stdout",
     "output_type": "stream",
     "text": [
      "<class 'numpy.ndarray'> (7904,)\n",
      "<class 'numpy.ndarray'> (7904,)\n",
      "<class 'numpy.ndarray'> 7904\n",
      "<class 'numpy.ndarray'> (1976,)\n",
      "<class 'numpy.ndarray'> (1976,)\n",
      "<class 'numpy.ndarray'> 1976\n"
     ]
    }
   ],
   "source": [
    "print(type(theta_train), theta_train.shape)\n",
    "print(type(phi_train), phi_train.shape)\n",
    "print(type(sequence_train), len(sequence_train))\n",
    "print(type(theta_val), theta_val.shape)\n",
    "print(type(phi_val), phi_val.shape)\n",
    "print(type(sequence_val), len(sequence_val))"
   ]
  },
  {
   "cell_type": "code",
   "execution_count": 7,
   "metadata": {},
   "outputs": [
    {
     "data": {
      "image/png": "[encoded data removed]",
      "text/plain": [
       "<Figure size 640x480 with 1 Axes>"
      ]
     },
     "metadata": {},
     "output_type": "display_data"
    },
    {
     "data": {
      "image/png": "[encoded data removed]",
      "text/plain": [
       "<Figure size 640x480 with 1 Axes>"
      ]
     },
     "metadata": {},
     "output_type": "display_data"
    },
    {
     "name": "stderr",
     "output_type": "stream",
     "text": [
      "c:\\Python310\\lib\\site-packages\\keras\\src\\engine\\functional.py:639: UserWarning: Input dict contained keys ['sequence_input'] which did not match any model input. They will be ignored by the model.\n",
      "  inputs = self._flatten_to_reference_inputs(inputs)\n"
     ]
    },
    {
     "name": "stdout",
     "output_type": "stream",
     "text": [
      "78/78 [==============================] - 1s 4ms/step - loss: 0.2706 - accuracy: 0.8984\n",
      "Test Accuracy: 89.84\n",
      "Test Loss: 27.06\n"
     ]
    }
   ],
   "source": [
    "import matplotlib.pyplot as plt\n",
    "\n",
    "def plot_history(history):\n",
    "         # Plot training & validation loss values\n",
    "        plt.plot(history.history['loss'])\n",
    "        plt.plot(history.history['val_loss'])\n",
    "        plt.title('Model loss')\n",
    "        plt.ylabel('Loss')\n",
    "        plt.xlabel('Epoch')\n",
    "        # plt.axis([45, 70, 0, 0.01])\n",
    "        plt.legend(['Train', 'Validation'], loc='upper right')\n",
    "        plt.show()\n",
    "\n",
    "        # Plot training & validation accuracy values\n",
    "        plt.plot(history.history['accuracy'])\n",
    "        plt.plot(history.history['val_accuracy'])\n",
    "        plt.title('Model accuracy')\n",
    "        plt.ylabel('Accuracy')\n",
    "        plt.xlabel('Epoch')\n",
    "        # plt.axis([45, 60, 0.999, 1.0])\n",
    "        plt.legend(['Train', 'Validation'], loc='upper right')\n",
    "        plt.show()\n",
    "\n",
    "def evaluate(model, theta, phi, sequence):\n",
    "    loss, acc = model.evaluate({'theta_input': theta, 'phi_input': phi, 'sequence_input': sequence}, np.expand_dims(sequence, -1))\n",
    "    print(\"Test Accuracy: {:.2f}\".format(acc*100))\n",
    "    print(\"Test Loss: {:.2f}\".format(loss*100))\n",
    "\n",
    "# 결과 그래프 그리기\n",
    "plot_history(history)\n",
    "\n",
    "# 모델 성능 평가\n",
    "evaluate(model, theta_test, phi_test, sequence_test)"
   ]
  },
  {
   "cell_type": "code",
   "execution_count": 8,
   "metadata": {},
   "outputs": [
    {
     "name": "stdout",
     "output_type": "stream",
     "text": [
      "1/1 [==============================] - 0s 39ms/step\n",
      "[1 1 1 1 3 2 2 4 4 4 1 3 3 2 2 4 4 1 0 0 0 0 0 0 0 0 0 0 0 0 0 0 0 0 0]\n"
     ]
    }
   ],
   "source": [
    "# 새로운 theta와 phi 값 정의\n",
    "new_theta = np.array([np.pi/2])  # 예시 값\n",
    "new_phi = np.array([np.pi*0])    # 예시 값\n",
    "\n",
    "# 모델로 예측\n",
    "predicted_sequence = model.predict([new_theta, new_phi])\n",
    "\n",
    "# 결과 출력 (예측값은 확률 분포로 나올 것이므로 가장 높은 확률을 가진 인덱스를 선택)\n",
    "predicted_sequence_indices = np.argmax(predicted_sequence, axis=-1)\n",
    "print(predicted_sequence_indices[0])"
   ]
  },
  {
   "cell_type": "code",
   "execution_count": 9,
   "metadata": {},
   "outputs": [
    {
     "name": "stdout",
     "output_type": "stream",
     "text": [
      "1/1 [==============================] - 0s 33ms/step\n",
      "[2 4 4 1 1 3 2 2 2 4 0 0 0 0 0 0 0 0 0 0 0 0 0 0 0 0 0 0 0 0 0 0 0 0 0]\n"
     ]
    }
   ],
   "source": [
    "# 새로운 theta와 phi 값 정의\n",
    "new_theta = np.array([0.721898974])  # 예시 값\n",
    "new_phi = np.array([5.172173873])    # 예시 값\n",
    "\n",
    "# 모델로 예측\n",
    "predicted_sequence = model.predict([new_theta, new_phi])\n",
    "\n",
    "# 결과 출력 (예측값은 확률 분포로 나올 것이므로 가장 높은 확률을 가진 인덱스를 선택)\n",
    "predicted_sequence_indices = np.argmax(predicted_sequence, axis=-1)\n",
    "print(predicted_sequence_indices[0])"
   ]
  },
  {
   "cell_type": "code",
   "execution_count": 10,
   "metadata": {},
   "outputs": [
    {
     "name": "stdout",
     "output_type": "stream",
     "text": [
      "1/1 [==============================] - 0s 28ms/step\n",
      "[3 2 4 4 1 1 3 3 2 2 4 4 1 1 3 3 2 2 4 4 1 1 3 3 2 2 4 4 0 1 1 1 3 0 0]\n"
     ]
    }
   ],
   "source": [
    "# 새로운 theta와 phi 값 정의\n",
    "new_theta = np.array([2.617163252])  # 예시 값\n",
    "new_phi = np.array([3.74399407])    # 예시 값\n",
    "\n",
    "# 모델로 예측\n",
    "predicted_sequence = model.predict([new_theta, new_phi])\n",
    "\n",
    "# 결과 출력 (예측값은 확률 분포로 나올 것이므로 가장 높은 확률을 가진 인덱스를 선택)\n",
    "predicted_sequence_indices = np.argmax(predicted_sequence, axis=-1)\n",
    "print(predicted_sequence_indices[0])"
   ]
  },
  {
   "cell_type": "code",
   "execution_count": 11,
   "metadata": {},
   "outputs": [
    {
     "name": "stdout",
     "output_type": "stream",
     "text": [
      "1/1 [==============================] - 0s 38ms/step\n",
      "[1 3 3 2 2 4 4 1 1 3 3 2 2 4 4 1 1 3 3 2 2 4 4 1 1 3 3 2 2 4 4 4 1 0 0]\n"
     ]
    }
   ],
   "source": [
    "# 새로운 theta와 phi 값 정의\n",
    "new_theta = np.array([3.111441191])  # 예시 값\n",
    "new_phi = np.array([1.647178737])    # 예시 값\n",
    "\n",
    "# 모델로 예측\n",
    "predicted_sequence = model.predict([new_theta, new_phi])\n",
    "\n",
    "# 결과 출력 (예측값은 확률 분포로 나올 것이므로 가장 높은 확률을 가진 인덱스를 선택)\n",
    "predicted_sequence_indices = np.argmax(predicted_sequence, axis=-1)\n",
    "print(predicted_sequence_indices[0])"
   ]
  }
 ],
 "metadata": {
  "kernelspec": {
   "display_name": "Python 3",
   "language": "python",
   "name": "python3"
  },
  "language_info": {
   "codemirror_mode": {
    "name": "ipython",
    "version": 3
   },
   "file_extension": ".py",
   "mimetype": "text/x-python",
   "name": "python",
   "nbconvert_exporter": "python",
   "pygments_lexer": "ipython3",
   "version": "3.10.5"
  },
  "orig_nbformat": 4
 },
 "nbformat": 4,
 "nbformat_minor": 2
}
