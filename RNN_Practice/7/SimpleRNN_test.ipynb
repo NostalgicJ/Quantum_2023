{
 "cells": [
  {
   "cell_type": "code",
   "execution_count": 5,
   "metadata": {},
   "outputs": [
    {
     "data": {
      "text/plain": [
       "array([[1.67823594],\n",
       "       [1.02865399],\n",
       "       [1.28304092],\n",
       "       [2.85908995],\n",
       "       [2.77122722]])"
      ]
     },
     "execution_count": 5,
     "metadata": {},
     "output_type": "execute_result"
    }
   ],
   "source": [
    "import numpy as np\n",
    "import pandas as pd\n",
    "from sklearn.model_selection import train_test_split\n",
    "from tensorflow.keras.models import Model\n",
    "from tensorflow.keras.layers import Input, SimpleRNN, Dense, Concatenate, TimeDistributed, RepeatVector\n",
    "from tensorflow.keras.preprocessing.sequence import pad_sequences\n",
    "\n",
    "# 데이터 불러오기\n",
    "df = pd.read_csv('NVspinData_None_-1_230807.csv')\n",
    "\n",
    "# 데이터셋 분리: train_set 8 : test_set 2\n",
    "train_df, test_df = train_test_split(df, shuffle=True, test_size=0.2)\n",
    "# train_set을 다시 8:2로 나눠서 train_set과 validation_set을 만듦\n",
    "train_df, val_df = train_test_split(train_df, shuffle=True, test_size=0.2)\n",
    "# random_state=42\n",
    "\n",
    "# 모든 시퀀스의 길이 중에서 최대 길이를 구하기\n",
    "all_sequences = [eval(seq) for seq in df['combination'].values]\n",
    "max_seq_length = max([len(seq) for seq in all_sequences])\n",
    "\n",
    "# 각 데이터셋에서 theta, phi, sequence 추출하고 reshape 적용\n",
    "theta_train = train_df['Theta'].values.reshape(-1, 1)\n",
    "phi_train = train_df['Phi'].values.reshape(-1, 1)\n",
    "sequence_train = pad_sequences(train_df['combination'].apply(eval).tolist(), maxlen=max_seq_length, padding='pre')\n",
    "\n",
    "theta_val = val_df['Theta'].values.reshape(-1, 1)\n",
    "phi_val = val_df['Phi'].values.reshape(-1, 1)\n",
    "sequence_val = pad_sequences(val_df['combination'].apply(eval).tolist(), maxlen=max_seq_length, padding='pre')\n",
    "\n",
    "theta_test = test_df['Theta'].values.reshape(-1, 1)\n",
    "phi_test = test_df['Phi'].values.reshape(-1, 1)\n",
    "sequence_test = pad_sequences(test_df['combination'].apply(eval).tolist(), maxlen=max_seq_length, padding='pre')\n",
    "\n",
    "# theta_train[:5]"
   ]
  },
  {
   "cell_type": "code",
   "execution_count": 31,
   "metadata": {},
   "outputs": [
    {
     "name": "stdout",
     "output_type": "stream",
     "text": [
      "Epoch 1/50\n",
      "124/124 [==============================] - 2s 9ms/step - loss: 1.1646 - accuracy: 0.5107 - val_loss: 0.9028 - val_accuracy: 0.5932\n",
      "Epoch 2/50\n",
      "124/124 [==============================] - 1s 6ms/step - loss: 0.8647 - accuracy: 0.6000 - val_loss: 0.8443 - val_accuracy: 0.6012\n",
      "Epoch 3/50\n",
      "124/124 [==============================] - 1s 7ms/step - loss: 0.8372 - accuracy: 0.6045 - val_loss: 0.8350 - val_accuracy: 0.6038\n",
      "Epoch 4/50\n",
      "124/124 [==============================] - 1s 6ms/step - loss: 0.8214 - accuracy: 0.6113 - val_loss: 0.8314 - val_accuracy: 0.6175\n",
      "Epoch 5/50\n",
      "124/124 [==============================] - 1s 6ms/step - loss: 0.7078 - accuracy: 0.7022 - val_loss: 0.4857 - val_accuracy: 0.8265\n",
      "Epoch 6/50\n",
      "124/124 [==============================] - 1s 6ms/step - loss: 0.4401 - accuracy: 0.8456 - val_loss: 0.4020 - val_accuracy: 0.8592\n",
      "Epoch 7/50\n",
      "124/124 [==============================] - 1s 6ms/step - loss: 0.4035 - accuracy: 0.8605 - val_loss: 0.4200 - val_accuracy: 0.8493\n",
      "Epoch 8/50\n",
      "124/124 [==============================] - 1s 9ms/step - loss: 0.3830 - accuracy: 0.8698 - val_loss: 0.3670 - val_accuracy: 0.8758\n",
      "Epoch 9/50\n",
      "124/124 [==============================] - 1s 8ms/step - loss: 0.3720 - accuracy: 0.8745 - val_loss: 0.3620 - val_accuracy: 0.8767\n",
      "Epoch 10/50\n",
      "124/124 [==============================] - 1s 10ms/step - loss: 0.3635 - accuracy: 0.8775 - val_loss: 0.3642 - val_accuracy: 0.8738\n",
      "Epoch 11/50\n",
      "124/124 [==============================] - 1s 6ms/step - loss: 0.3542 - accuracy: 0.8818 - val_loss: 0.3517 - val_accuracy: 0.8796\n",
      "Epoch 12/50\n",
      "124/124 [==============================] - 1s 6ms/step - loss: 0.3531 - accuracy: 0.8814 - val_loss: 0.3442 - val_accuracy: 0.8826\n",
      "Epoch 13/50\n",
      "124/124 [==============================] - 1s 7ms/step - loss: 0.3391 - accuracy: 0.8862 - val_loss: 0.3424 - val_accuracy: 0.8814\n",
      "Epoch 14/50\n",
      "124/124 [==============================] - 1s 6ms/step - loss: 0.3315 - accuracy: 0.8879 - val_loss: 0.3449 - val_accuracy: 0.8787\n",
      "Epoch 15/50\n",
      "124/124 [==============================] - 1s 6ms/step - loss: 0.3239 - accuracy: 0.8877 - val_loss: 0.3638 - val_accuracy: 0.8750\n",
      "Epoch 16/50\n",
      "124/124 [==============================] - 1s 6ms/step - loss: 0.3119 - accuracy: 0.8907 - val_loss: 0.2961 - val_accuracy: 0.8956\n",
      "Epoch 17/50\n",
      "124/124 [==============================] - 1s 7ms/step - loss: 0.3096 - accuracy: 0.8887 - val_loss: 0.3288 - val_accuracy: 0.8707\n",
      "Epoch 18/50\n",
      "124/124 [==============================] - 1s 7ms/step - loss: 0.3002 - accuracy: 0.8914 - val_loss: 0.2806 - val_accuracy: 0.9000\n",
      "Epoch 19/50\n",
      "124/124 [==============================] - 1s 6ms/step - loss: 0.2946 - accuracy: 0.8939 - val_loss: 0.2772 - val_accuracy: 0.8980\n",
      "Epoch 20/50\n",
      "124/124 [==============================] - 1s 6ms/step - loss: 0.2854 - accuracy: 0.8968 - val_loss: 0.2982 - val_accuracy: 0.8887\n",
      "Epoch 21/50\n",
      "124/124 [==============================] - 1s 7ms/step - loss: 0.2860 - accuracy: 0.8968 - val_loss: 0.2743 - val_accuracy: 0.8988\n",
      "Epoch 22/50\n",
      "124/124 [==============================] - 1s 7ms/step - loss: 0.2856 - accuracy: 0.8958 - val_loss: 0.2819 - val_accuracy: 0.8967\n",
      "Epoch 23/50\n",
      "124/124 [==============================] - 1s 6ms/step - loss: 0.2847 - accuracy: 0.8968 - val_loss: 0.2723 - val_accuracy: 0.8991\n",
      "Epoch 24/50\n",
      "124/124 [==============================] - 1s 7ms/step - loss: 0.2718 - accuracy: 0.9014 - val_loss: 0.2578 - val_accuracy: 0.9038\n",
      "Epoch 25/50\n",
      "124/124 [==============================] - 1s 7ms/step - loss: 0.2737 - accuracy: 0.9012 - val_loss: 0.2589 - val_accuracy: 0.9064\n",
      "Epoch 26/50\n",
      "124/124 [==============================] - 1s 7ms/step - loss: 0.2769 - accuracy: 0.8992 - val_loss: 0.2742 - val_accuracy: 0.8957\n",
      "Epoch 27/50\n",
      "124/124 [==============================] - 1s 6ms/step - loss: 0.2735 - accuracy: 0.9002 - val_loss: 0.2518 - val_accuracy: 0.9074\n",
      "Epoch 28/50\n",
      "124/124 [==============================] - 1s 6ms/step - loss: 0.2728 - accuracy: 0.8998 - val_loss: 0.2898 - val_accuracy: 0.8940\n",
      "Epoch 29/50\n",
      "124/124 [==============================] - 1s 7ms/step - loss: 0.2674 - accuracy: 0.9025 - val_loss: 0.2631 - val_accuracy: 0.9036\n",
      "Epoch 30/50\n",
      "124/124 [==============================] - 1s 8ms/step - loss: 0.2631 - accuracy: 0.9039 - val_loss: 0.2635 - val_accuracy: 0.9025\n",
      "Epoch 31/50\n",
      "124/124 [==============================] - 1s 6ms/step - loss: 0.2597 - accuracy: 0.9042 - val_loss: 0.2481 - val_accuracy: 0.9066\n",
      "Epoch 32/50\n",
      "124/124 [==============================] - 1s 6ms/step - loss: 0.2685 - accuracy: 0.9018 - val_loss: 0.2583 - val_accuracy: 0.9003\n",
      "Epoch 33/50\n",
      "124/124 [==============================] - 1s 6ms/step - loss: 0.2617 - accuracy: 0.9039 - val_loss: 0.2506 - val_accuracy: 0.9076\n",
      "Epoch 34/50\n",
      "124/124 [==============================] - 1s 7ms/step - loss: 0.2579 - accuracy: 0.9050 - val_loss: 0.2530 - val_accuracy: 0.9060\n",
      "Epoch 35/50\n",
      "124/124 [==============================] - 1s 7ms/step - loss: 0.2538 - accuracy: 0.9069 - val_loss: 0.2462 - val_accuracy: 0.9084\n",
      "Epoch 36/50\n",
      "124/124 [==============================] - 1s 6ms/step - loss: 0.2517 - accuracy: 0.9072 - val_loss: 0.2376 - val_accuracy: 0.9102\n",
      "Epoch 37/50\n",
      "124/124 [==============================] - 1s 6ms/step - loss: 0.2653 - accuracy: 0.9030 - val_loss: 0.2738 - val_accuracy: 0.8963\n",
      "Epoch 38/50\n",
      "124/124 [==============================] - 1s 6ms/step - loss: 0.2538 - accuracy: 0.9068 - val_loss: 0.2502 - val_accuracy: 0.9044\n",
      "Epoch 39/50\n",
      "124/124 [==============================] - 1s 7ms/step - loss: 0.2511 - accuracy: 0.9076 - val_loss: 0.2452 - val_accuracy: 0.9098\n",
      "Epoch 40/50\n",
      "124/124 [==============================] - 1s 7ms/step - loss: 0.2553 - accuracy: 0.9061 - val_loss: 0.2359 - val_accuracy: 0.9143\n",
      "Epoch 41/50\n",
      "124/124 [==============================] - 1s 7ms/step - loss: 0.2545 - accuracy: 0.9065 - val_loss: 0.2361 - val_accuracy: 0.9140\n",
      "Epoch 42/50\n",
      "124/124 [==============================] - 1s 6ms/step - loss: 0.2549 - accuracy: 0.9064 - val_loss: 0.2561 - val_accuracy: 0.9046\n",
      "Epoch 43/50\n",
      "124/124 [==============================] - 1s 6ms/step - loss: 0.2501 - accuracy: 0.9089 - val_loss: 0.2692 - val_accuracy: 0.8982\n",
      "Epoch 44/50\n",
      "124/124 [==============================] - 1s 7ms/step - loss: 0.2467 - accuracy: 0.9093 - val_loss: 0.2536 - val_accuracy: 0.9053\n",
      "Epoch 45/50\n",
      "124/124 [==============================] - 1s 7ms/step - loss: 0.2511 - accuracy: 0.9080 - val_loss: 0.2510 - val_accuracy: 0.9054\n",
      "Epoch 46/50\n",
      "124/124 [==============================] - 1s 6ms/step - loss: 0.2533 - accuracy: 0.9072 - val_loss: 0.2258 - val_accuracy: 0.9174\n",
      "Epoch 47/50\n",
      "124/124 [==============================] - 1s 6ms/step - loss: 0.2496 - accuracy: 0.9085 - val_loss: 0.2404 - val_accuracy: 0.9090\n",
      "Epoch 48/50\n",
      "124/124 [==============================] - 1s 7ms/step - loss: 0.2441 - accuracy: 0.9104 - val_loss: 0.2489 - val_accuracy: 0.9077\n",
      "Epoch 49/50\n",
      "124/124 [==============================] - 1s 8ms/step - loss: 0.2476 - accuracy: 0.9098 - val_loss: 0.2368 - val_accuracy: 0.9123\n",
      "Epoch 50/50\n",
      "124/124 [==============================] - 1s 7ms/step - loss: 0.2407 - accuracy: 0.9114 - val_loss: 0.2350 - val_accuracy: 0.9133\n",
      "78/78 [==============================] - 0s 2ms/step - loss: 0.2405 - accuracy: 0.9127\n",
      "Test Loss: 0.2405\n",
      "Test Accuracy: 0.9127\n"
     ]
    }
   ],
   "source": [
    "\n",
    "# 모델 정의\n",
    "theta_input = Input(shape=(1,), name='theta_input')\n",
    "phi_input = Input(shape=(1,), name='phi_input')\n",
    "\n",
    "# theta와 phi를 Concatenate\n",
    "merged = Concatenate()([theta_input, phi_input])\n",
    "\n",
    "# 시퀀스를 예측하기 위한 SimpleRNN 레이어\n",
    "repeated_vector = RepeatVector(max_seq_length)(merged)  # max_sequence_length는 시퀀스의 최대 길이\n",
    "\n",
    "rnn_layer = SimpleRNN(64, return_sequences=True, name='rnn_layer')(repeated_vector)\n",
    "\n",
    "output = TimeDistributed(Dense(5, activation='softmax'), name='output_layer')(rnn_layer)\n",
    "\n",
    "model = Model(inputs=[theta_input, phi_input], outputs=output)\n",
    "\n",
    "# 컴파일 및 훈련\n",
    "model.compile(loss='sparse_categorical_crossentropy', optimizer='adam', metrics=['accuracy'])\n",
    "history = model.fit([theta_train, phi_train], np.expand_dims(sequence_train, -1), \n",
    "                    validation_data=([theta_val, phi_val], np.expand_dims(sequence_val, -1)), epochs=50, batch_size=64)\n",
    "\n",
    "# 검증\n",
    "loss, accuracy = model.evaluate([theta_test, phi_test], np.expand_dims(sequence_test, -1))\n",
    "print(f\"Test Loss: {loss:.4f}\")\n",
    "print(f\"Test Accuracy: {accuracy:.4f}\")\n"
   ]
  },
  {
   "cell_type": "code",
   "execution_count": 67,
   "metadata": {},
   "outputs": [
    {
     "name": "stdout",
     "output_type": "stream",
     "text": [
      "1/1 [==============================] - 0s 27ms/step\n",
      "Sample 1:\n",
      "Theta    : [0.71090601]\n",
      "Phi      : [4.57566559]\n",
      "Actual   : [0 0 0 0 0 0 0 0 0 0 0 0 0 0 0 0 0 0 0 0 0 0 0 0 2 2 4 4 1 1 3 1 0 0 4]\n",
      "Predicted: [0 0 0 0 0 0 0 0 0 0 0 0 0 0 0 0 0 0 0 0 0 0 0 0 0 2 4 4 1 1 1 3 2 0 0]\n",
      "----------\n",
      "Sample 2:\n",
      "Theta    : [1.5364912]\n",
      "Phi      : [3.84077424]\n",
      "Actual   : [0 0 0 0 0 0 0 0 0 0 0 0 0 0 0 0 0 2 2 4 4 1 1 3 3 2 2 4 4 1 1 3 2 2 0]\n",
      "Predicted: [0 0 0 0 0 0 0 0 0 0 0 0 0 0 0 0 0 2 2 4 4 1 1 3 3 2 2 4 4 1 1 3 3 3 0]\n",
      "----------\n",
      "Sample 3:\n",
      "Theta    : [2.41592325]\n",
      "Phi      : [2.22908683]\n",
      "Actual   : [0 0 0 0 0 0 0 0 0 3 3 2 2 4 4 1 1 3 3 2 2 4 4 1 1 3 3 2 2 4 4 1 1 3 3]\n",
      "Predicted: [0 0 0 0 0 0 0 0 0 3 3 2 2 4 4 1 1 3 3 2 2 4 4 1 1 3 3 2 2 4 4 1 1 3 3]\n",
      "----------\n",
      "Sample 4:\n",
      "Theta    : [3.00294276]\n",
      "Phi      : [4.37157918]\n",
      "Actual   : [0 0 2 4 4 1 1 3 3 2 2 4 4 1 1 3 3 2 2 4 4 1 1 3 3 2 2 4 4 1 1 3 3 3 3]\n",
      "Predicted: [0 0 2 2 4 4 1 1 3 3 2 2 4 4 1 1 3 3 2 2 4 4 1 1 3 3 2 2 4 4 1 1 1 3 3]\n",
      "----------\n",
      "Sample 5:\n",
      "Theta    : [0.37523911]\n",
      "Phi      : [2.57037846]\n",
      "Actual   : [0 0 0 0 0 0 0 0 0 0 0 0 0 0 0 0 0 0 0 0 0 0 0 0 0 0 0 0 0 0 0 0 0 3 3]\n",
      "Predicted: [0 0 0 0 0 0 0 0 0 0 0 0 0 0 0 0 0 0 0 0 0 0 0 0 0 0 0 0 0 0 0 0 1 3 3]\n",
      "----------\n",
      "Sample 6:\n",
      "Theta    : [3.00166863]\n",
      "Phi      : [2.1318833]\n",
      "Actual   : [0 0 0 3 3 2 2 4 4 1 1 3 3 2 2 4 4 1 1 3 3 2 2 4 4 1 1 3 3 2 2 4 4 4 1]\n",
      "Predicted: [0 0 3 3 3 2 2 4 4 1 1 3 3 2 2 4 4 1 1 3 3 2 2 4 4 1 1 3 3 2 2 4 4 4 1]\n",
      "----------\n",
      "Sample 7:\n",
      "Theta    : [1.29185046]\n",
      "Phi      : [3.80333336]\n",
      "Actual   : [0 0 0 0 0 0 0 0 0 0 0 0 0 0 0 0 0 2 2 4 4 1 1 3 3 2 2 4 4 1 1 1 1 0 3]\n",
      "Predicted: [0 0 0 0 0 0 0 0 0 0 0 0 0 0 0 0 0 2 2 4 4 1 1 3 3 2 2 4 4 1 1 3 2 0 0]\n",
      "----------\n",
      "Sample 8:\n",
      "Theta    : [1.44850681]\n",
      "Phi      : [1.29492016]\n",
      "Actual   : [0 0 0 0 0 0 0 0 0 0 0 0 0 0 0 0 1 1 3 3 2 2 4 4 1 1 3 3 2 2 2 4 4 0 2]\n",
      "Predicted: [0 0 0 0 0 0 0 0 0 0 0 0 0 0 0 0 0 1 3 3 2 2 4 4 1 1 3 3 2 2 4 4 1 1 1]\n",
      "----------\n",
      "Sample 9:\n",
      "Theta    : [0.68130127]\n",
      "Phi      : [3.8792248]\n",
      "Actual   : [0 0 0 0 0 0 0 0 0 0 0 0 0 0 0 0 0 0 0 0 0 0 0 0 0 0 2 2 4 4 1 3 2 2 2]\n",
      "Predicted: [0 0 0 0 0 0 0 0 0 0 0 0 0 0 0 0 0 0 0 0 0 0 0 0 0 2 2 4 4 1 1 3 3 2 0]\n",
      "----------\n",
      "Sample 10:\n",
      "Theta    : [2.68022522]\n",
      "Phi      : [5.70960979]\n",
      "Actual   : [0 0 4 4 1 1 3 3 2 2 4 4 1 1 3 3 2 2 4 4 1 1 3 3 2 2 4 4 1 1 1 1 3 2 2]\n",
      "Predicted: [0 0 0 4 1 1 3 3 2 4 4 4 1 1 3 3 2 2 4 4 1 1 3 3 2 2 4 4 1 1 3 3 3 2 2]\n",
      "----------\n"
     ]
    }
   ],
   "source": [
    "# 테스트 데이터셋에서 10개의 샘플을 무작위로 선택\n",
    "indices = np.random.choice(len(theta_test), 10)\n",
    "\n",
    "theta_samples = np.array(theta_test)[indices]\n",
    "phi_samples = np.array(phi_test)[indices]\n",
    "sequence_samples = np.array(sequence_test)[indices]\n",
    "\n",
    "# 모델을 사용하여 예측 수행\n",
    "predicted_sequences = model.predict([theta_samples, phi_samples])\n",
    "\n",
    "# 가장 확률이 높은 클래스의 인덱스를 선택\n",
    "predicted_sequences = np.argmax(predicted_sequences, axis=-1)\n",
    "\n",
    "# 결과 출력\n",
    "for i in range(10):\n",
    "    print(f\"Sample {i + 1}:\")\n",
    "    print(\"Theta    :\", theta_samples[i])\n",
    "    print(\"Phi      :\", phi_samples[i])\n",
    "    print(\"Actual   :\", sequence_samples[i])\n",
    "    print(\"Predicted:\", predicted_sequences[i])\n",
    "    print(\"----------\")\n"
   ]
  },
  {
   "cell_type": "code",
   "execution_count": 30,
   "metadata": {},
   "outputs": [
    {
     "name": "stdout",
     "output_type": "stream",
     "text": [
      "1/1 [==============================] - 0s 21ms/step\n",
      "Results saved to rnn_results.csv\n"
     ]
    }
   ],
   "source": [
    "# 테스트 데이터셋에서 10개의 샘플을 무작위로 선택\n",
    "indices = np.random.choice(len(theta_test), 10)\n",
    "\n",
    "theta_samples = np.array(theta_test)[indices]\n",
    "phi_samples = np.array(phi_test)[indices]\n",
    "sequence_samples = np.array(sequence_test)[indices]\n",
    "\n",
    "# 모델을 사용하여 예측 수행\n",
    "predicted_sequences = model.predict([theta_samples, phi_samples])\n",
    "\n",
    "# 가장 확률이 높은 클래스의 인덱스를 선택\n",
    "predicted_sequences = np.argmax(predicted_sequences, axis=-1)\n",
    "\n",
    "# 결과를 DataFrame으로 변환\n",
    "df_results = pd.DataFrame({\n",
    "    'Theta': theta_samples,\n",
    "    'Phi': phi_samples,\n",
    "    'Actual Sequence': [list(seq) for seq in sequence_samples],\n",
    "    'Predicted Sequence': [list(seq) for seq in predicted_sequences]\n",
    "})\n",
    "\n",
    "# 결과를 CSV 파일로 저장\n",
    "df_results.to_csv('rnn_results2.csv', index=False)\n",
    "\n",
    "print(\"Results saved to rnn_results.csv\")\n"
   ]
  },
  {
   "cell_type": "code",
   "execution_count": 41,
   "metadata": {},
   "outputs": [
    {
     "name": "stdout",
     "output_type": "stream",
     "text": [
      "<class 'numpy.ndarray'> (7904, 1)\n",
      "<class 'numpy.ndarray'> (7904, 1)\n",
      "<class 'numpy.ndarray'> 7904\n",
      "<class 'numpy.ndarray'> (1976, 1)\n",
      "<class 'numpy.ndarray'> (1976, 1)\n",
      "<class 'numpy.ndarray'> 1976\n"
     ]
    }
   ],
   "source": [
    "print(type(theta_train), theta_train.shape)\n",
    "print(type(phi_train), phi_train.shape)\n",
    "print(type(sequence_train), len(sequence_train))\n",
    "print(type(theta_val), theta_val.shape)\n",
    "print(type(phi_val), phi_val.shape)\n",
    "print(type(sequence_val), len(sequence_val))"
   ]
  },
  {
   "cell_type": "code",
   "execution_count": 42,
   "metadata": {},
   "outputs": [
    {
     "data": {
      "image/png": "[encoded data removed]",
      "text/plain": [
       "<Figure size 640x480 with 1 Axes>"
      ]
     },
     "metadata": {},
     "output_type": "display_data"
    },
    {
     "data": {
      "image/png": "[encoded data removed]",
      "text/plain": [
       "<Figure size 640x480 with 1 Axes>"
      ]
     },
     "metadata": {},
     "output_type": "display_data"
    },
    {
     "name": "stdout",
     "output_type": "stream",
     "text": [
      " 1/78 [..............................] - ETA: 13s - loss: 0.2592 - accuracy: 0.9152"
     ]
    },
    {
     "name": "stderr",
     "output_type": "stream",
     "text": [
      "c:\\Python310\\lib\\site-packages\\keras\\src\\engine\\functional.py:639: UserWarning: Input dict contained keys ['sequence_input'] which did not match any model input. They will be ignored by the model.\n",
      "  inputs = self._flatten_to_reference_inputs(inputs)\n"
     ]
    },
    {
     "name": "stdout",
     "output_type": "stream",
     "text": [
      "78/78 [==============================] - 0s 3ms/step - loss: 0.2405 - accuracy: 0.9127\n",
      "Test Accuracy: 91.27\n",
      "Test Loss: 24.05\n"
     ]
    }
   ],
   "source": [
    "import matplotlib.pyplot as plt\n",
    "\n",
    "def plot_history(history):\n",
    "         # Plot training & validation loss values\n",
    "        plt.plot(history.history['loss'])\n",
    "        plt.plot(history.history['val_loss'])\n",
    "        plt.title('Model loss')\n",
    "        plt.ylabel('Loss')\n",
    "        plt.xlabel('Epoch')\n",
    "        # plt.axis([45, 70, 0, 0.01])\n",
    "        plt.legend(['Train', 'Validation'], loc='upper right')\n",
    "        plt.show()\n",
    "\n",
    "        # Plot training & validation accuracy values\n",
    "        plt.plot(history.history['accuracy'])\n",
    "        plt.plot(history.history['val_accuracy'])\n",
    "        plt.title('Model accuracy')\n",
    "        plt.ylabel('Accuracy')\n",
    "        plt.xlabel('Epoch')\n",
    "        # plt.axis([45, 60, 0.999, 1.0])\n",
    "        plt.legend(['Train', 'Validation'], loc='upper right')\n",
    "        plt.show()\n",
    "\n",
    "def evaluate(model, theta, phi, sequence):\n",
    "    loss, acc = model.evaluate({'theta_input': theta, 'phi_input': phi, 'sequence_input': sequence}, np.expand_dims(sequence, -1))\n",
    "    print(\"Test Accuracy: {:.2f}\".format(acc*100))\n",
    "    print(\"Test Loss: {:.2f}\".format(loss*100))\n",
    "\n",
    "# 결과 그래프 그리기\n",
    "plot_history(history)\n",
    "\n",
    "# 모델 성능 평가\n",
    "evaluate(model, theta_test, phi_test, sequence_test)"
   ]
  },
  {
   "cell_type": "code",
   "execution_count": 63,
   "metadata": {},
   "outputs": [
    {
     "name": "stdout",
     "output_type": "stream",
     "text": [
      "1/1 [==============================] - 0s 19ms/step\n",
      "[0 0 0 0 0 0 0 0 0 0 0 0 0 0 0 0 0 3 2 2 4 4 1 1 3 3 2 2 4 4 1 1 3 3 2]\n"
     ]
    }
   ],
   "source": [
    "# 새로운 theta와 phi 값 정의\n",
    "new_theta = np.array([np.pi/2]).reshape(-1, 1)  # 예시 값\n",
    "new_phi = np.array([np.pi]).reshape(-1, 1)    # 예시 값\n",
    "\n",
    "# 모델로 예측\n",
    "predicted_sequence = model.predict([new_theta, new_phi])\n",
    "\n",
    "# 결과 출력 (예측값은 확률 분포로 나올 것이므로 가장 높은 확률을 가진 인덱스를 선택)\n",
    "predicted_sequence_indices = np.argmax(predicted_sequence, axis=-1)\n",
    "print(predicted_sequence_indices[0])"
   ]
  }
 ],
 "metadata": {
  "kernelspec": {
   "display_name": "Python 3",
   "language": "python",
   "name": "python3"
  },
  "language_info": {
   "codemirror_mode": {
    "name": "ipython",
    "version": 3
   },
   "file_extension": ".py",
   "mimetype": "text/x-python",
   "name": "python",
   "nbconvert_exporter": "python",
   "pygments_lexer": "ipython3",
   "version": "3.10.5"
  },
  "orig_nbformat": 4
 },
 "nbformat": 4,
 "nbformat_minor": 2
}
