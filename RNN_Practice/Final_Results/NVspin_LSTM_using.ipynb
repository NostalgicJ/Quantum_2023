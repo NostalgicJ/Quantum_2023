{
 "cells": [
  {
   "cell_type": "code",
   "execution_count": 8,
   "metadata": {},
   "outputs": [],
   "source": [
    "# import requests\n",
    "# import os\n",
    "\n",
    "# # 모델의 raw URL을 사용합니다.\n",
    "# url = 'https://github.com/NostalgicJ/Quantum_2023/raw/test/RNN_Practice/10/saved_models/NVspin_SimpleRNN_model.h5'\n",
    "# response = requests.get(url, allow_redirects=True)\n",
    "\n",
    "# # 현재 코드 파일이 위치한 디렉토리의 상위 디렉토리로 이동\n",
    "# parent_directory = os.path.join(os.getcwd(), '..')\n",
    "\n",
    "# # 상위 디렉토리에 새로운 디렉토리 생성\n",
    "# new_directory = os.path.join(parent_directory, 'using_models')\n",
    "\n",
    "# if not os.path.exists(new_directory):\n",
    "#     os.makedirs(new_directory)\n",
    "\n",
    "# # 모델 저장하기\n",
    "# with open('../using_models/NVspin_SimpleRNN_model.h5', 'wb') as f:\n",
    "#     f.write(response.content)\n",
    "    "
   ]
  },
  {
   "cell_type": "code",
   "execution_count": 9,
   "metadata": {},
   "outputs": [],
   "source": [
    "from tensorflow.keras.models import load_model\n",
    "\n",
    "loaded_model = load_model('saved_models/NVspin_LSTM_model.h5')"
   ]
  },
  {
   "cell_type": "code",
   "execution_count": 10,
   "metadata": {},
   "outputs": [
    {
     "data": {
      "image/png": "[encoded data removed]",
      "text/plain": [
       "<IPython.core.display.Image object>"
      ]
     },
     "execution_count": 10,
     "metadata": {},
     "output_type": "execute_result"
    }
   ],
   "source": [
    "from tensorflow.keras.utils import plot_model\n",
    "import os\n",
    "\n",
    "# 저장할 디렉토리 생성\n",
    "model_dir = 'model_plot'\n",
    "if not os.path.exists(model_dir):\n",
    "    os.makedirs(model_dir)\n",
    "\n",
    "# 원하는 디렉토리 지정\n",
    "file_name = 'LSTM_model_plot.png'\n",
    "full_path = os.path.join(model_dir, file_name)\n",
    "\n",
    "# 모델 구조 시각화\n",
    "plot_model(loaded_model, to_file=full_path, show_shapes=True, show_layer_names=True)\n"
   ]
  },
  {
   "cell_type": "code",
   "execution_count": 11,
   "metadata": {},
   "outputs": [
    {
     "name": "stdout",
     "output_type": "stream",
     "text": [
      "1/1 [==============================] - 0s 286ms/step\n",
      "[0 0 0 0 0 0 0 0 0 0 0 0 0 0 0 0 0 3 2 2 4 4 1 1 3 3 2 2 4 4 1 1 3 2 3]\n"
     ]
    }
   ],
   "source": [
    "import numpy as np\n",
    "\n",
    "# 새로운 theta와 phi 값 정의\n",
    "new_theta = np.array([np.pi/2]).reshape(-1, 1)  # 예시 값\n",
    "new_phi = np.array([np.pi]).reshape(-1, 1)    # 예시 값\n",
    "\n",
    "# 모델로 예측\n",
    "predicted_sequence = loaded_model.predict([new_theta, new_phi])\n",
    "\n",
    "# 결과 출력 (예측값은 확률 분포로 나올 것이므로 가장 높은 확률을 가진 인덱스를 선택)\n",
    "predicted_sequence_indices = np.argmax(predicted_sequence, axis=-1)\n",
    "print(predicted_sequence_indices[0])"
   ]
  },
  {
   "cell_type": "code",
   "execution_count": 12,
   "metadata": {},
   "outputs": [
    {
     "data": {
      "text/html": [
       "<div>\n",
       "<style scoped>\n",
       "    .dataframe tbody tr th:only-of-type {\n",
       "        vertical-align: middle;\n",
       "    }\n",
       "\n",
       "    .dataframe tbody tr th {\n",
       "        vertical-align: top;\n",
       "    }\n",
       "\n",
       "    .dataframe thead th {\n",
       "        text-align: right;\n",
       "    }\n",
       "</style>\n",
       "<table border=\"1\" class=\"dataframe\">\n",
       "  <thead>\n",
       "    <tr style=\"text-align: right;\">\n",
       "      <th></th>\n",
       "      <th>gate length</th>\n",
       "      <th>Theta</th>\n",
       "      <th>Phi</th>\n",
       "      <th>dt</th>\n",
       "      <th>combination</th>\n",
       "      <th>total time</th>\n",
       "      <th>computing time</th>\n",
       "    </tr>\n",
       "  </thead>\n",
       "  <tbody>\n",
       "    <tr>\n",
       "      <th>0</th>\n",
       "      <td>33</td>\n",
       "      <td>2.929662</td>\n",
       "      <td>5.595665</td>\n",
       "      <td>2.6</td>\n",
       "      <td>[4, 4, 1, 1, 3, 3, 2, 2, 4, 4, 1, 1, 3, 3, 2, ...</td>\n",
       "      <td>85.8</td>\n",
       "      <td>111.285084</td>\n",
       "    </tr>\n",
       "    <tr>\n",
       "      <th>1</th>\n",
       "      <td>0</td>\n",
       "      <td>0.084689</td>\n",
       "      <td>0.055737</td>\n",
       "      <td>2.6</td>\n",
       "      <td>[]</td>\n",
       "      <td>0.0</td>\n",
       "      <td>0.002025</td>\n",
       "    </tr>\n",
       "    <tr>\n",
       "      <th>2</th>\n",
       "      <td>26</td>\n",
       "      <td>2.439792</td>\n",
       "      <td>5.561737</td>\n",
       "      <td>2.6</td>\n",
       "      <td>[4, 4, 1, 1, 3, 3, 2, 2, 4, 4, 1, 1, 3, 3, 2, ...</td>\n",
       "      <td>67.6</td>\n",
       "      <td>252.000650</td>\n",
       "    </tr>\n",
       "    <tr>\n",
       "      <th>3</th>\n",
       "      <td>27</td>\n",
       "      <td>2.539521</td>\n",
       "      <td>2.653985</td>\n",
       "      <td>2.6</td>\n",
       "      <td>[3, 3, 2, 2, 4, 4, 1, 1, 3, 3, 2, 2, 4, 4, 1, ...</td>\n",
       "      <td>70.2</td>\n",
       "      <td>20.284366</td>\n",
       "    </tr>\n",
       "    <tr>\n",
       "      <th>4</th>\n",
       "      <td>27</td>\n",
       "      <td>2.661688</td>\n",
       "      <td>0.006324</td>\n",
       "      <td>2.6</td>\n",
       "      <td>[4, 4, 1, 1, 3, 3, 2, 2, 4, 4, 1, 1, 3, 3, 2, ...</td>\n",
       "      <td>70.2</td>\n",
       "      <td>243.598741</td>\n",
       "    </tr>\n",
       "  </tbody>\n",
       "</table>\n",
       "</div>"
      ],
      "text/plain": [
       "   gate length     Theta       Phi   dt  \\\n",
       "0           33  2.929662  5.595665  2.6   \n",
       "1            0  0.084689  0.055737  2.6   \n",
       "2           26  2.439792  5.561737  2.6   \n",
       "3           27  2.539521  2.653985  2.6   \n",
       "4           27  2.661688  0.006324  2.6   \n",
       "\n",
       "                                         combination  total time  \\\n",
       "0  [4, 4, 1, 1, 3, 3, 2, 2, 4, 4, 1, 1, 3, 3, 2, ...        85.8   \n",
       "1                                                 []         0.0   \n",
       "2  [4, 4, 1, 1, 3, 3, 2, 2, 4, 4, 1, 1, 3, 3, 2, ...        67.6   \n",
       "3  [3, 3, 2, 2, 4, 4, 1, 1, 3, 3, 2, 2, 4, 4, 1, ...        70.2   \n",
       "4  [4, 4, 1, 1, 3, 3, 2, 2, 4, 4, 1, 1, 3, 3, 2, ...        70.2   \n",
       "\n",
       "   computing time  \n",
       "0      111.285084  \n",
       "1        0.002025  \n",
       "2      252.000650  \n",
       "3       20.284366  \n",
       "4      243.598741  "
      ]
     },
     "execution_count": 12,
     "metadata": {},
     "output_type": "execute_result"
    }
   ],
   "source": [
    "import pandas as pd\n",
    "\n",
    "# 깃허브에서 CSV 파일 다운로드\n",
    "csv_url = \"https://github.com/NostalgicJ/Quantum_2023/raw/test/Data/using/dt_2.6/ByAstar_dt_2.6_modified.csv\"\n",
    "df = pd.read_csv(csv_url)\n",
    "\n",
    "shuffled_data = df.sample(frac=1).reset_index(drop=True)\n",
    "shuffled_data.head()"
   ]
  },
  {
   "cell_type": "code",
   "execution_count": 13,
   "metadata": {},
   "outputs": [
    {
     "name": "stdout",
     "output_type": "stream",
     "text": [
      "540/540 [==============================] - 12s 21ms/step\n"
     ]
    }
   ],
   "source": [
    "# 예측 수행\n",
    "theta = shuffled_data['Theta'].values.reshape(-1, 1)\n",
    "phi = shuffled_data['Phi'].values.reshape(-1, 1)\n",
    "predictions = loaded_model.predict([theta, phi])\n",
    "\n",
    "# 예측 결과를 원하는 형태로 가공 (예: 가장 확률이 높은 클래스를 선택하는 경우)\n",
    "predicted_sequences = np.argmax(predictions, axis=-1)  # 이 부분은 예측 결과의 형태와 원하는 출력에 따라 조절이 필요합니다.\n",
    "\n",
    "# 원본 DataFrame에 예측 결과를 추가\n",
    "shuffled_data['Predicted'] = list(predicted_sequences)"
   ]
  },
  {
   "cell_type": "code",
   "execution_count": 14,
   "metadata": {},
   "outputs": [
    {
     "name": "stdout",
     "output_type": "stream",
     "text": [
      "File saved at: data_results\\NVspin_LSTM_data_results.csv\n"
     ]
    }
   ],
   "source": [
    "import os\n",
    "\n",
    "# 저장할 디렉토리 생성\n",
    "result_dir = 'data_results'\n",
    "if not os.path.exists(result_dir):\n",
    "    os.makedirs(result_dir)\n",
    "\n",
    "# 결과를 CSV 파일로 해당 디렉토리에 저장\n",
    "output_path = os.path.join(result_dir, \"NVspin_LSTM_data_results.csv\")\n",
    "shuffled_data.to_csv(output_path, index=False)\n",
    "\n",
    "print(f\"File saved at: {output_path}\")"
   ]
  }
 ],
 "metadata": {
  "kernelspec": {
   "display_name": "Python 3",
   "language": "python",
   "name": "python3"
  },
  "language_info": {
   "codemirror_mode": {
    "name": "ipython",
    "version": 3
   },
   "file_extension": ".py",
   "mimetype": "text/x-python",
   "name": "python",
   "nbconvert_exporter": "python",
   "pygments_lexer": "ipython3",
   "version": "3.10.5"
  },
  "orig_nbformat": 4
 },
 "nbformat": 4,
 "nbformat_minor": 2
}
