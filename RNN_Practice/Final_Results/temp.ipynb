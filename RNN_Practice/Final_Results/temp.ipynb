{
 "cells": [
  {
   "cell_type": "code",
   "execution_count": 1,
   "metadata": {},
   "outputs": [
    {
     "name": "stdout",
     "output_type": "stream",
     "text": [
      "<class 'pandas.core.frame.DataFrame'>\n",
      "RangeIndex: 26545 entries, 0 to 26544\n",
      "Data columns (total 7 columns):\n",
      " #   Column          Non-Null Count  Dtype  \n",
      "---  ------          --------------  -----  \n",
      " 0   gate length     26545 non-null  int64  \n",
      " 1   Theta           26545 non-null  float64\n",
      " 2   Phi             26545 non-null  float64\n",
      " 3   dt              26545 non-null  float64\n",
      " 4   combination     26545 non-null  object \n",
      " 5   total time      26545 non-null  float64\n",
      " 6   computing time  26545 non-null  float64\n",
      "dtypes: float64(5), int64(1), object(1)\n",
      "memory usage: 1.4+ MB\n"
     ]
    }
   ],
   "source": [
    "import pandas as pd\n",
    "\n",
    "\n",
    "upload_df = pd.read_csv('../../Data/using/dt_2.6/ByAstar_dt_2.6_0911.csv')\n",
    "\n",
    "\n",
    "upload_df.info()"
   ]
  },
  {
   "cell_type": "code",
   "execution_count": null,
   "metadata": {},
   "outputs": [],
   "source": [
    "upload_df = pd.read_csv('../../Data/using/dt_2.6/ByAstar_dt_2.6_0911.csv')\n",
    "\n",
    "sample = upload_df.loc[:, [\"Theta\", \"Phi\", \"combination\"]]\n",
    "\n",
    "case = 0\n",
    "\n",
    "while True : \n",
    "     case += 1\n",
    "     print(case)\n",
    "     theta = sample[\"Theta\"][case]\n",
    "     phi = sample[\"Phi\"][case]\n",
    "     comb = sample[\"combination\"][case]\n",
    "     print(theta, phi, comb)    "
   ]
  },
  {
   "cell_type": "code",
   "execution_count": 12,
   "metadata": {},
   "outputs": [
    {
     "data": {
      "text/plain": [
       "26.0"
      ]
     },
     "execution_count": 12,
     "metadata": {},
     "output_type": "execute_result"
    }
   ],
   "source": [
    "import numpy as np\n",
    "\n",
    "dt = 0.1\n",
    "\n",
    "temp = 2.6 / dt\n",
    "\n",
    "temp_list = np.arange(0, temp, 0.001)\n",
    "\n",
    "temp"
   ]
  },
  {
   "cell_type": "code",
   "execution_count": 13,
   "metadata": {},
   "outputs": [
    {
     "name": "stdout",
     "output_type": "stream",
     "text": [
      "1299740\n"
     ]
    }
   ],
   "source": [
    "temp = dt * 2.6\n",
    "    \n",
    "temp_list = np.arange(0, temp, 0.001)\n",
    "\n",
    "\n",
    "values = np.arange(0.001, 5, 0.001)\n",
    "# 반올림하여 3자리 소수점까지만 표시\n",
    "dt_values = [round(val, 3) for val in values]\n",
    "\n",
    "sum = 0\n",
    "for i in dt_values:\n",
    "     for j in temp_list:\n",
    "          sum += 1\n",
    "\n",
    "print(sum)"
   ]
  },
  {
   "cell_type": "code",
   "execution_count": 20,
   "metadata": {},
   "outputs": [
    {
     "name": "stdout",
     "output_type": "stream",
     "text": [
      "26.0\n",
      "[0.0000e+00 1.0000e-03 2.0000e-03 ... 2.5997e+01 2.5998e+01 2.5999e+01]\n"
     ]
    }
   ],
   "source": [
    "temp = 2.6 / dt\n",
    "\n",
    "t_list = np.arange(0, temp, 0.001)\n",
    "\n",
    "print(temp)\n",
    "print(t_list)\n",
    "\n",
    "# for i in dt_values:\n",
    "#      for j in range(t_list):\n",
    "#           print(i, j)"
   ]
  }
 ],
 "metadata": {
  "kernelspec": {
   "display_name": "Python 3",
   "language": "python",
   "name": "python3"
  },
  "language_info": {
   "codemirror_mode": {
    "name": "ipython",
    "version": 3
   },
   "file_extension": ".py",
   "mimetype": "text/x-python",
   "name": "python",
   "nbconvert_exporter": "python",
   "pygments_lexer": "ipython3",
   "version": "3.10.5"
  },
  "orig_nbformat": 4
 },
 "nbformat": 4,
 "nbformat_minor": 2
}
