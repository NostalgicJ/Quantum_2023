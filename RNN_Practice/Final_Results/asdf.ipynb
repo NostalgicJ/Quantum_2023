{
 "cells": [
  {
   "cell_type": "code",
   "execution_count": 2,
   "metadata": {},
   "outputs": [
    {
     "name": "stdout",
     "output_type": "stream",
     "text": [
      "[1.0, 1.1, 1.2000000000000002, 1.3000000000000003, 1.4000000000000004, 1.5000000000000004, 1.6000000000000005, 1.7000000000000006, 1.8000000000000007, 1.9000000000000008, 2.000000000000001, 2.100000000000001, 2.200000000000001, 2.300000000000001, 2.4000000000000012, 2.5000000000000013, 2.6000000000000014]\n"
     ]
    }
   ],
   "source": [
    "import numpy as np\n",
    "\n",
    "# 1에서 2.6까지 0.1씩 증가하는 리스트 생성\n",
    "values = np.arange(1, 2.7, 0.1).tolist()\n",
    "\n",
    "print(values)"
   ]
  },
  {
   "cell_type": "code",
   "execution_count": 3,
   "metadata": {},
   "outputs": [
    {
     "name": "stdout",
     "output_type": "stream",
     "text": [
      "[1.0, 1.1, 1.2, 1.3, 1.4, 1.5, 1.6, 1.7, 1.8, 1.9, 2.0, 2.1, 2.2, 2.3, 2.4, 2.5, 2.6]\n"
     ]
    }
   ],
   "source": [
    "import numpy as np\n",
    "\n",
    "values = np.arange(1, 2.7, 0.1)\n",
    "# 반올림하여 1자리 소수점까지만 표시\n",
    "rounded_values = [round(val, 1) for val in values]\n",
    "\n",
    "print(rounded_values)\n"
   ]
  },
  {
   "cell_type": "code",
   "execution_count": 4,
   "metadata": {},
   "outputs": [
    {
     "name": "stdout",
     "output_type": "stream",
     "text": [
      "{1.0: 1.0, 1.1: 1.1, 1.2: 1.2, 1.3: 1.3, 1.4: 1.4, 1.5: 1.5, 1.6: 1.6, 1.7: 1.7, 1.8: 1.8, 1.9: 1.9, 2.0: 2.0, 2.1: 2.1, 2.2: 2.2, 2.3: 2.3, 2.4: 2.4, 2.5: 2.5, 2.6: 2.6}\n"
     ]
    }
   ],
   "source": [
    "import numpy as np\n",
    "unitary_choiceList = {}\n",
    "\n",
    "values = np.arange(1, 2.7, 0.1)\n",
    "# 반올림하여 1자리 소수점까지만 표시\n",
    "rounded_values = [round(val, 1) for val in values]\n",
    "\n",
    "for opt in rounded_values:\n",
    "    unitary_choiceList[opt] = opt\n",
    "    \n",
    "print(unitary_choiceList)"
   ]
  },
  {
   "cell_type": "code",
   "execution_count": 5,
   "metadata": {},
   "outputs": [
    {
     "name": "stdout",
     "output_type": "stream",
     "text": [
      "1.0\n",
      "1.1\n",
      "1.2\n",
      "1.3\n",
      "1.4\n",
      "1.5\n",
      "1.6\n",
      "1.7\n",
      "1.8\n",
      "1.9\n",
      "2.0\n",
      "2.1\n",
      "2.2\n",
      "2.3\n",
      "2.4\n",
      "2.5\n",
      "2.6\n"
     ]
    }
   ],
   "source": [
    "\n",
    "for j in unitary_choiceList:\n",
    "     print(j)"
   ]
  },
  {
   "cell_type": "code",
   "execution_count": 6,
   "metadata": {},
   "outputs": [
    {
     "data": {
      "text/plain": [
       "array([0.01, 0.02, 0.03, 0.04, 0.05, 0.06, 0.07, 0.08, 0.09, 0.1 , 0.11,\n",
       "       0.12, 0.13, 0.14, 0.15, 0.16, 0.17, 0.18, 0.19, 0.2 , 0.21, 0.22,\n",
       "       0.23, 0.24, 0.25, 0.26, 0.27, 0.28, 0.29, 0.3 , 0.31, 0.32, 0.33,\n",
       "       0.34, 0.35, 0.36, 0.37, 0.38, 0.39, 0.4 , 0.41, 0.42, 0.43, 0.44,\n",
       "       0.45, 0.46, 0.47, 0.48, 0.49, 0.5 , 0.51, 0.52, 0.53, 0.54, 0.55,\n",
       "       0.56, 0.57, 0.58, 0.59, 0.6 , 0.61, 0.62, 0.63, 0.64, 0.65, 0.66,\n",
       "       0.67, 0.68, 0.69, 0.7 , 0.71, 0.72, 0.73, 0.74, 0.75, 0.76, 0.77,\n",
       "       0.78, 0.79, 0.8 , 0.81, 0.82, 0.83, 0.84, 0.85, 0.86, 0.87, 0.88,\n",
       "       0.89, 0.9 , 0.91, 0.92, 0.93, 0.94, 0.95, 0.96, 0.97, 0.98, 0.99,\n",
       "       1.  , 1.01, 1.02, 1.03, 1.04, 1.05, 1.06, 1.07, 1.08, 1.09, 1.1 ,\n",
       "       1.11, 1.12, 1.13, 1.14, 1.15, 1.16, 1.17, 1.18, 1.19, 1.2 , 1.21,\n",
       "       1.22, 1.23, 1.24, 1.25, 1.26, 1.27, 1.28, 1.29, 1.3 , 1.31, 1.32,\n",
       "       1.33, 1.34, 1.35, 1.36, 1.37, 1.38, 1.39, 1.4 , 1.41, 1.42, 1.43,\n",
       "       1.44, 1.45, 1.46, 1.47, 1.48, 1.49, 1.5 , 1.51, 1.52, 1.53, 1.54,\n",
       "       1.55, 1.56, 1.57, 1.58, 1.59, 1.6 , 1.61, 1.62, 1.63, 1.64, 1.65,\n",
       "       1.66, 1.67, 1.68, 1.69, 1.7 , 1.71, 1.72, 1.73, 1.74, 1.75, 1.76,\n",
       "       1.77, 1.78, 1.79, 1.8 , 1.81, 1.82, 1.83, 1.84, 1.85, 1.86, 1.87,\n",
       "       1.88, 1.89, 1.9 , 1.91, 1.92, 1.93, 1.94, 1.95, 1.96, 1.97, 1.98,\n",
       "       1.99, 2.  , 2.01, 2.02, 2.03, 2.04, 2.05, 2.06, 2.07, 2.08, 2.09,\n",
       "       2.1 , 2.11, 2.12, 2.13, 2.14, 2.15, 2.16, 2.17, 2.18, 2.19, 2.2 ,\n",
       "       2.21, 2.22, 2.23, 2.24, 2.25, 2.26, 2.27, 2.28, 2.29, 2.3 , 2.31,\n",
       "       2.32, 2.33, 2.34, 2.35, 2.36, 2.37, 2.38, 2.39, 2.4 , 2.41, 2.42,\n",
       "       2.43, 2.44, 2.45, 2.46, 2.47, 2.48, 2.49, 2.5 , 2.51, 2.52, 2.53,\n",
       "       2.54, 2.55, 2.56, 2.57, 2.58, 2.59, 2.6 , 2.61, 2.62, 2.63, 2.64,\n",
       "       2.65, 2.66, 2.67, 2.68, 2.69, 2.7 ])"
      ]
     },
     "execution_count": 6,
     "metadata": {},
     "output_type": "execute_result"
    }
   ],
   "source": [
    "np.arange(0.01, 2.7, 0.01)"
   ]
  },
  {
   "cell_type": "code",
   "execution_count": 1,
   "metadata": {},
   "outputs": [
    {
     "name": "stdout",
     "output_type": "stream",
     "text": [
      "0.020000333348331935\n",
      "1.145934689714174\n"
     ]
    }
   ],
   "source": [
    "import math\n",
    "\n",
    "angle_rad = 2 * math.acos(math.sqrt(0.9999))\n",
    "\n",
    "# 각도를 라디안에서도 출력\n",
    "angle_deg = math.degrees(angle_rad)\n",
    "\n",
    "print(angle_rad)  # 라디안으로 출력\n",
    "print(angle_deg)  # 각도로 출력"
   ]
  },
  {
   "cell_type": "code",
   "execution_count": 6,
   "metadata": {},
   "outputs": [
    {
     "name": "stdout",
     "output_type": "stream",
     "text": [
      "Adjusted dt: 3.5999999999999788\n"
     ]
    }
   ],
   "source": [
    "\n",
    "from math import *\n",
    "import numpy as np\n",
    "from scipy.linalg import expm\n",
    "\n",
    "# pauli matrix \n",
    "sx = np.array([[0,  1],     [1, 0]])\n",
    "sy = np.array([[0, -1j],   [1j, 0]])\n",
    "sz = np.array([[1, 0],     [0, -1]])\n",
    "s0 = np.array([[1, 0],      [0, 1]])\n",
    "\n",
    "# parameters(detuning factor)\n",
    "d0 = 0.15           # Arbitrary settings, Actual speed : 0.30rad/μs\n",
    "# dt = 1.3\n",
    "v0 = 0.02           # Arbitrary settings, Actual speed : 0.04rad/μs\n",
    "\n",
    "# Initial state\n",
    "init_wave = np.array([[1], [0]])\n",
    "irho_init = np.kron(init_wave, init_wave.conj().T)\n",
    "\n",
    "def unitary(dt, choice):\n",
    "    \n",
    "    # Select x,y-rotation direction.\n",
    "    # [stay, +x, -x, +y, -y]\n",
    "    choice_list = [0, 1, -1, 1, -1] \n",
    "    \n",
    "    if choice < 3:\n",
    "        # if choice = 0 ... only d0*sz\n",
    "        Ham = (d0*sz+v0*choice_list[choice]*sx)\n",
    "    else:\n",
    "        Ham = (d0*sz+v0*choice_list[choice]*sy)\n",
    "\n",
    "    # Creating a Unitary Operator for each of the four sections by Hamiltonian\n",
    "    eigvals = np.linalg.eigh(Ham)[0]\n",
    "    eigvecs = 1*np.linalg.eigh(Ham)[1]\n",
    "    E = np.diag(eigvals)\n",
    "    U_H = eigvecs.conj().T\n",
    "    U_e = U_H.conj().T @ expm(-1j*E*dt) @ U_H\n",
    "    \n",
    "    return U_e\n",
    "\n",
    "def get_angle_from_unitary(U):\n",
    "    # U의 특성값 중 하나의 phase를 사용하여 회전 각도를 반환\n",
    "    eigval = np.linalg.eigvals(U)[0]\n",
    "    return np.angle(eigval)\n",
    "\n",
    "desired_angle = 1.145934689714174 * (np.pi / 180)  # 원하는 각도를 라디안으로 변환\n",
    "\n",
    "dt = 2.6\n",
    "\n",
    "for _ in range(100):  # 최대 100번 시도\n",
    "    U = unitary(dt, choice=1)  # 임의의 choice 값 사용\n",
    "    current_angle = get_angle_from_unitary(U)\n",
    "    difference = current_angle - desired_angle\n",
    "\n",
    "    # 원하는 각도에 충분히 가까운 경우, loop 종료\n",
    "    if abs(difference) < 1e-6:  \n",
    "        break\n",
    "\n",
    "    # dt 값을 조정 (이 방식은 간단한 예제입니다. 더 정교한 방법을 사용할 수 있습니다.)\n",
    "    dt -= 0.01 * np.sign(difference)\n",
    "\n",
    "print(\"Adjusted dt:\", dt)\n"
   ]
  }
 ],
 "metadata": {
  "kernelspec": {
   "display_name": "Python 3",
   "language": "python",
   "name": "python3"
  },
  "language_info": {
   "codemirror_mode": {
    "name": "ipython",
    "version": 3
   },
   "file_extension": ".py",
   "mimetype": "text/x-python",
   "name": "python",
   "nbconvert_exporter": "python",
   "pygments_lexer": "ipython3",
   "version": "3.10.5"
  },
  "orig_nbformat": 4
 },
 "nbformat": 4,
 "nbformat_minor": 2
}
