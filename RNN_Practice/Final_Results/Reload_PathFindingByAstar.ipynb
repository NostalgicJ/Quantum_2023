{
 "cells": [
  {
   "cell_type": "code",
   "execution_count": null,
   "metadata": {},
   "outputs": [],
   "source": [
    "### fidelity 계산 부분이랑 99.99이상이면 에이스타 한번 더 안 돌리는거랑\n",
    "### 애초에 모델에서 나온 값을 저장할 때 fidelity도 같이 계산해서 csv파일에 같이 저장해야 하고\n",
    "### 혹시 fid 떨어지는 애 있는지 검사하는 부분도 추가해야함\n",
    "### main에서 초기화 할 때 comb 어떻게 넣어야 할지 봐야 함\n",
    "### DL 모델 코드에서 fid 항목 내보내기 필요"
   ]
  },
  {
   "cell_type": "code",
   "execution_count": null,
   "metadata": {},
   "outputs": [],
   "source": []
  },
  {
   "cell_type": "code",
   "execution_count": null,
   "metadata": {},
   "outputs": [],
   "source": [
    "import os\n",
    "from datetime import datetime\n",
    "import pandas as pd\n",
    "\n",
    "# Create a directory to store the results\n",
    "dir = 'Data_local_optimization_results_dir'\n",
    "if not os.path.exists(dir):\n",
    "    os.makedirs(dir)\n",
    "\n",
    "# CSV file name setup\n",
    "date = datetime.now()\n",
    "printdate = date.strftime('%Y%m%d_%H%M%S')\n",
    "filename = \"/Local_Optimization_ByAstar_99.99_\" + printdate + '.csv'\n",
    "\n",
    "# Create an empty DataFrame and write to CSV file\n",
    "df = pd.DataFrame(columns=['Case', 'gate length', 'Theta', 'Phi', 'dt', \n",
    "                           'DL combination', 'DL fidelity', 'DL real time', 'DL computing time', \n",
    "                           'A* combination', 'A* fidelity', 'A* real time', 'A* computing time', \n",
    "                           'Total combination', 'Total fidelity', 'Total real time', 'Total computing time'])\n",
    "\n",
    "df.to_csv(dir + filename, index=False)\n",
    "\n",
    "# upload existed file - Theta, Phi, Combination, Fidelity, Computing time\n",
    "upload_df = pd.read_csv('data_result/NVspin_GRU_data_random_results20230918_172606.csv')\n",
    "sample = upload_df.loc[:, [\"Theta\", \"Phi\", 'dt', 'DL combination', 'DL fidelity', 'DL real time', 'DL computing time']]\n",
    "\n",
    "print(sample)\n",
    "len(upload_df)"
   ]
  },
  {
   "cell_type": "code",
   "execution_count": null,
   "metadata": {},
   "outputs": [],
   "source": [
    "case = 0\n",
    "\n",
    "for case in range(len(upload_df) - 1) : \n",
    "    \n",
    "    df_theta = sample[\"Theta\"][case]\n",
    "    df_phi = sample[\"Phi\"][case]\n",
    "    df_dt = sample[\"dt\"][case]\n",
    "    df_comb = sample[\"DL combination\"][case]\n",
    "    df_fid = sample[\"DL fidelity\"][case]\n",
    "    df_tott = sample[\"DL real time\"][case]\n",
    "    df_compt = sample[\"DL computing time\"][case]\n",
    "    \n",
    "    if (df_comb != []) or (df_fid > 99.99):\n",
    "        path, path_fid, path_tott, path_compt = main(df_theta, df_phi, df_comb)\n",
    "    \n",
    "    \n",
    "    # state fid 최종 combi 버전 99.99 확인\n",
    "    total_path = df_comb + path\n",
    "    total_fid = path_fid        # fid 확인 후 변경\n",
    "    \n",
    "    \n",
    "    output = [['case' + str(case), len(path), df_theta, df_phi, df_dt, \n",
    "               df_comb, df_fid, df_tott, df_compt,\n",
    "               path, path_fid, path_tott, path_compt,\n",
    "               total_path, total_fid, len(total_path)*df_dt, df_compt + path_compt]]\n",
    "    \n",
    "    # Create DataFrame and append to CSV file\n",
    "    df = pd.DataFrame(output, columns=[ \"Case\", 'gate length', 'Theta', 'Phi', 'dt', \n",
    "                                        'DL combination', 'DL fidelity', 'DL real time', 'DL computing time', \n",
    "                                        'A* combination', 'A* fidelity', 'A* real time', 'A* computing time', \n",
    "                                        'Total combination', 'Total fidelity', 'Total real time', 'Total computing time'])\n",
    "    \n",
    "    df.to_csv(dir + filename, mode='a', header=False, index=False)\n"
   ]
  }
 ],
 "metadata": {
  "kernelspec": {
   "display_name": "Python 3",
   "language": "python",
   "name": "python3"
  },
  "language_info": {
   "codemirror_mode": {
    "name": "ipython",
    "version": 3
   },
   "file_extension": ".py",
   "mimetype": "text/x-python",
   "name": "python",
   "nbconvert_exporter": "python",
   "pygments_lexer": "ipython3",
   "version": "3.10.5"
  },
  "orig_nbformat": 4
 },
 "nbformat": 4,
 "nbformat_minor": 2
}
