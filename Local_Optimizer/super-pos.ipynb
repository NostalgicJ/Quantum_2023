{
 "cells": [
  {
   "cell_type": "code",
   "execution_count": 266,
   "metadata": {},
   "outputs": [],
   "source": [
    "# ==============================\n",
    "# Standard Library Imports\n",
    "# ==============================\n",
    "from enum import Enum\n",
    "import random\n",
    "\n",
    "# ==============================\n",
    "# Third-party Library Imports\n",
    "# ==============================\n",
    "import matplotlib.pyplot as plt\n",
    "from IPython.display import display, Latex\n",
    "from matplotlib.ticker import MultipleLocator\n",
    "import numpy as np  # Original numpy\n",
    "import pennylane as qml\n",
    "import scipy as sp\n",
    "from autograd import grad, jacobian\n",
    "\n",
    "# Pennylane numpy\n",
    "from pennylane import numpy as pnp "
   ]
  },
  {
   "cell_type": "code",
   "execution_count": 267,
   "metadata": {},
   "outputs": [],
   "source": [
    "# ==============================\n",
    "# Setup for Quantum Computations\n",
    "# ==============================\n",
    "\n",
    "# PennyLane settings\n",
    "dev = qml.device('default.mixed', wires=1)"
   ]
  },
  {
   "cell_type": "code",
   "execution_count": 268,
   "metadata": {},
   "outputs": [],
   "source": [
    "def hamiltonian(paras):\n",
    "    coeff_x = paras[0]\n",
    "    coeff_y = paras[1]\n",
    "    \n",
    "    coeffs = [coeff_x, coeff_y, 1]\n",
    "    rot = [qml.PauliX(0), qml.PauliY(0), qml.PauliZ(0)]\n",
    "    \n",
    "    return qml.Hamiltonian(coeffs = coeffs, observables = rot)"
   ]
  },
  {
   "cell_type": "markdown",
   "metadata": {},
   "source": [
    "$$\n",
    "H = \n",
    "coeff_{x} \\cdot(X_0) + coeff_{y} \\cdot(Y_0) + 1 \\cdot(Z_0)\n",
    "$$"
   ]
  },
  {
   "cell_type": "code",
   "execution_count": 269,
   "metadata": {},
   "outputs": [],
   "source": [
    "@qml.qnode(dev)\n",
    "def circuit(paras):\n",
    "    coeff_in = np.zeros(2)\n",
    "    coeff_in = paras[:2] \n",
    "    dt = paras[2]\n",
    "    \n",
    "    get_hamiltonian = hamiltonian(coeff_in)\n",
    "    qml.ApproxTimeEvolution(get_hamiltonian, dt, 1)\n",
    "    \n",
    "    return qml.density_matrix(wires=0)"
   ]
  },
  {
   "cell_type": "code",
   "execution_count": 270,
   "metadata": {},
   "outputs": [
    {
     "data": {
      "image/png": "[encoded data removed]",
      "text/plain": [
       "<Figure size 400x200 with 1 Axes>"
      ]
     },
     "metadata": {},
     "output_type": "display_data"
    }
   ],
   "source": [
    "null = 1,1,1\n",
    "fig, ax = qml.draw_mpl(circuit)(null)"
   ]
  },
  {
   "cell_type": "code",
   "execution_count": 271,
   "metadata": {},
   "outputs": [],
   "source": [
    "@qml.qnode(dev)\n",
    "def hadamard():\n",
    "    qml.Hadamard(wires=0)\n",
    "    \n",
    "    return qml.density_matrix(wires=0)"
   ]
  },
  {
   "cell_type": "code",
   "execution_count": 272,
   "metadata": {},
   "outputs": [
    {
     "data": {
      "text/plain": [
       "array([[0.5+0.j, 0.5+0.j],\n",
       "       [0.5+0.j, 0.5+0.j]])"
      ]
     },
     "execution_count": 272,
     "metadata": {},
     "output_type": "execute_result"
    }
   ],
   "source": [
    "hadamard().numpy()"
   ]
  },
  {
   "cell_type": "code",
   "execution_count": 273,
   "metadata": {},
   "outputs": [
    {
     "data": {
      "text/plain": [
       "array([[0.58658909-5.55111512e-17j, 0.49214615-1.71609834e-02j],\n",
       "       [0.49214615+1.71609834e-02j, 0.41341091+0.00000000e+00j]])"
      ]
     },
     "execution_count": 273,
     "metadata": {},
     "output_type": "execute_result"
    }
   ],
   "source": [
    "paras_init = 1, 1, 1   # coeff_x, coeff_y, dt\n",
    "\n",
    "circuit(paras_init)"
   ]
  },
  {
   "cell_type": "code",
   "execution_count": 274,
   "metadata": {},
   "outputs": [],
   "source": [
    "def fidelity(rho_1, rho_2):\n",
    "    stage_1 = sp.linalg.sqrtm(sp.linalg.sqrtm(rho_1) @ rho_2 @ sp.linalg.sqrtm(rho_1))\n",
    "    \n",
    "    return np.trace(stage_1)"
   ]
  },
  {
   "cell_type": "code",
   "execution_count": 275,
   "metadata": {},
   "outputs": [],
   "source": [
    "def cost_function(paras):\n",
    "    rho_1 = circuit(paras)\n",
    "    rho_2 = hadamard().numpy()\n",
    "    \n",
    "    cal_fidelity = fidelity(rho_1, rho_2)\n",
    "    \n",
    "    return -cal_fidelity"
   ]
  },
  {
   "cell_type": "code",
   "execution_count": 276,
   "metadata": {},
   "outputs": [
    {
     "name": "stderr",
     "output_type": "stream",
     "text": [
      "/Library/Frameworks/Python.framework/Versions/3.11/lib/python3.11/site-packages/scipy/optimize/_numdiff.py:598: ComplexWarning: Casting complex values to real discards the imaginary part\n",
      "  J_transposed[i] = df / dx\n",
      "/Library/Frameworks/Python.framework/Versions/3.11/lib/python3.11/site-packages/scipy/optimize/_lbfgsb_py.py:352: ComplexWarning: Casting complex values to real discards the imaginary part\n",
      "  _lbfgsb.setulb(m, x, low_bnd, upper_bnd, nbd, f, g, factr,\n"
     ]
    }
   ],
   "source": [
    "initial_paras = 1,2,3 # coeff_x, coeff_y, dt\n",
    "\n",
    "constraints = [\n",
    "    # coeff_x\n",
    "    (-float('inf'), float('inf')),\n",
    "    # coeff_y\n",
    "    (-float('inf'), float('inf')),\n",
    "    # dt\n",
    "    (-float('inf'), float('inf')),\n",
    "]\n",
    "\n",
    "result = sp.optimize.minimize(\n",
    "    fun = cost_function, \n",
    "    x0 = initial_paras,\n",
    "    method = 'L-BFGS-B',\n",
    "    bounds = constraints,\n",
    "    \n",
    "    tol = 1e-20,\n",
    "    options={\n",
    "        'ftol': 1e-20, \n",
    "        'gtol': 1e-20\n",
    "        }\n",
    "    )"
   ]
  },
  {
   "cell_type": "code",
   "execution_count": 277,
   "metadata": {},
   "outputs": [
    {
     "name": "stdout",
     "output_type": "stream",
     "text": [
      "[optimized_fidelity] = (0.9997156800695326-2.0468097805974366e-10j)\n",
      "\n",
      "[coeff_x, coeff_y] = 0.486746939904152 2.740731903661214\n",
      "[dt] = 3.1585145565274337\n"
     ]
    }
   ],
   "source": [
    "print('[optimized_fidelity] =', -result.fun)\n",
    "print()\n",
    "print('[coeff_x, coeff_y] =', result.x[0], result.x[1])\n",
    "print('[dt] =', result.x[2])"
   ]
  }
 ],
 "metadata": {
  "kernelspec": {
   "display_name": "Python 3",
   "language": "python",
   "name": "python3"
  },
  "language_info": {
   "codemirror_mode": {
    "name": "ipython",
    "version": 3
   },
   "file_extension": ".py",
   "mimetype": "text/x-python",
   "name": "python",
   "nbconvert_exporter": "python",
   "pygments_lexer": "ipython3",
   "version": "3.11.4"
  }
 },
 "nbformat": 4,
 "nbformat_minor": 2
}
