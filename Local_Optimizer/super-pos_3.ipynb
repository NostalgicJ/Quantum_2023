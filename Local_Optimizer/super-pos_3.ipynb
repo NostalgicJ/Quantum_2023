{
 "cells": [
  {
   "cell_type": "code",
   "execution_count": 61,
   "metadata": {},
   "outputs": [],
   "source": [
    "# ==============================\n",
    "# Standard Library Imports\n",
    "# ==============================\n",
    "from enum import Enum\n",
    "import random\n",
    "\n",
    "# ==============================\n",
    "# Third-party Library Imports\n",
    "# ==============================\n",
    "import numpy as np  # Original numpy\n",
    "import pennylane as qml\n",
    "import scipy as sp\n",
    "\n",
    "# Pennylane numpy\n",
    "from pennylane import numpy as pnp "
   ]
  },
  {
   "cell_type": "code",
   "execution_count": 62,
   "metadata": {},
   "outputs": [],
   "source": [
    "# ==============================\n",
    "# Setup for Quantum Computations\n",
    "# ==============================\n",
    "\n",
    "# PennyLane settings\n",
    "dev = qml.device('default.mixed', wires=1)"
   ]
  },
  {
   "cell_type": "code",
   "execution_count": 63,
   "metadata": {},
   "outputs": [],
   "source": [
    "# ==============================\n",
    "# Global Variables\n",
    "# ==============================\n",
    "NUM_EVO = 0"
   ]
  },
  {
   "cell_type": "code",
   "execution_count": 64,
   "metadata": {},
   "outputs": [],
   "source": [
    "def hamiltonian(coeff_x, coeff_y):\n",
    "    coeffs = [coeff_x * 0.5, coeff_y * 0.5, 1 * 0.5]\n",
    "    rot = [qml.PauliX(0), qml.PauliY(0), qml.PauliZ(0)]\n",
    "    \n",
    "    return qml.Hamiltonian(coeffs = coeffs, observables = rot)"
   ]
  },
  {
   "cell_type": "markdown",
   "metadata": {},
   "source": [
    "$$\n",
    "H = \n",
    "coeff_{x} \\cdot(X_0) + coeff_{y} \\cdot(Y_0) + 1 \\cdot(Z_0)\n",
    "$$"
   ]
  },
  {
   "cell_type": "code",
   "execution_count": 65,
   "metadata": {},
   "outputs": [],
   "source": [
    "@qml.qnode(dev)\n",
    "def circuit(coeff_parameters, dt):\n",
    "    global NUM_EVO\n",
    "    for evo_idx in range(NUM_EVO):\n",
    "        coeff_x = coeff_parameters[0 + evo_idx * 2]     # 0, 2, 4, 6 ...    x민\n",
    "        coeff_y = coeff_parameters[1 + evo_idx * 2]     # 1, 3, 5, 7 ...    y만\n",
    "        get_hamiltonian = hamiltonian(coeff_x, coeff_y)\n",
    "        \n",
    "        qml.ApproxTimeEvolution(get_hamiltonian, dt, 1)\n",
    "    \n",
    "    return qml.density_matrix(wires=0)"
   ]
  },
  {
   "cell_type": "code",
   "execution_count": 66,
   "metadata": {},
   "outputs": [],
   "source": [
    "from math import *\n",
    "\n",
    "@qml.qnode(dev)\n",
    "def hadamard_test():\n",
    "    qml.Hadamard(wires=0)\n",
    "    \n",
    "    return qml.density_matrix(wires=0)\n",
    "\n",
    "def fidelity(rho_1, rho_2):\n",
    "    stage_1 = sp.linalg.sqrtm(\n",
    "        sp.linalg.sqrtm(rho_1) @ rho_2 @ sp.linalg.sqrtm(rho_1)\n",
    "    )\n",
    "    \n",
    "    return np.trace(stage_1)\n",
    "\n",
    "# x-rotation operater\n",
    "def Rx(theta):\n",
    "    return np.matrix([  [cos(theta/2),  -1j*sin(theta/2)],\n",
    "                        [-1j*sin(theta/2),  cos(theta/2)]])\n",
    "\n",
    "# z-rotation operater\n",
    "# Control by rotation only by Hamiltonian.\n",
    "def Rz(phi): \n",
    "    return np.matrix([  [cos(phi/2)-1j*sin(phi/2),  0],\n",
    "                        [0,  cos(phi/2)+1j*sin(phi/2)]])\n",
    "\n",
    "def cost_function(paras):\n",
    "    # print(paras)\n",
    "    # print(paras[:-1])\n",
    "    # print(paras[-1])\n",
    "    \n",
    "    coeff_parameters = paras[:-1]\n",
    "    dt = paras[-1]\n",
    "    \n",
    "    rho_1 = circuit(coeff_parameters, dt)\n",
    "    # rho_2 = hadamard_test().numpy()\n",
    "    \n",
    "    # making rho\n",
    "    init_wave = np.array([[1], [0]])\n",
    "    irho_init = np.kron(init_wave,init_wave.conj().T)\n",
    "    target_U = Rz(2.999853842) @ Rx(1.157343739)\n",
    "    rho_2 = target_U @ irho_init @ target_U.conj().T\n",
    "\n",
    "    \n",
    "    cal_fidelity = fidelity(rho_1, rho_2).real\n",
    "    \n",
    "    return -cal_fidelity\n",
    "\n",
    "def get_prev_sequence_len():\n",
    "    # gets a sequence obtained from a*\n",
    "    example_sequence = [3, 3, 2, 2, 4, 4, 1, 1, 3, 3, 2]\n",
    "    \n",
    "    get_length = len(example_sequence)\n",
    "    \n",
    "    return get_length"
   ]
  },
  {
   "cell_type": "code",
   "execution_count": 67,
   "metadata": {},
   "outputs": [],
   "source": [
    "NUM_EVO = get_prev_sequence_len()       # set number of time-evo\n",
    "initial_paras = [0, 0] * NUM_EVO + [3]  # [coeff_x0, coeff_y1], ... [dt]\n",
    "\n",
    "constraints = [\n",
    "    # coeff_x\n",
    "    (-1.5, 1.5),\n",
    "    # coeff_y\n",
    "    (-1.5, 1.5),\n",
    "] * NUM_EVO + [\n",
    "    # dt\n",
    "    (0, 7)\n",
    "]\n",
    "\n",
    "result = sp.optimize.minimize(\n",
    "    fun = cost_function, \n",
    "    x0 = initial_paras,\n",
    "    method = 'L-BFGS-B',\n",
    "    bounds = constraints,\n",
    "    tol = 1e-12,\n",
    "    options={\n",
    "        'ftol': 1e-12, \n",
    "        'gtol': 1e-12\n",
    "        }\n",
    "    )"
   ]
  },
  {
   "cell_type": "code",
   "execution_count": 68,
   "metadata": {},
   "outputs": [],
   "source": [
    "def print_result(result):\n",
    "    global NUM_EVO\n",
    "    print(\"Optimized_fidelity =\", f\"{-result.fun:.4f}\",'\\n')\n",
    "\n",
    "    for i in range(NUM_EVO):\n",
    "        print(f\"num_evo: {i+1}\")\n",
    "        print(f\"[coeff_x, coeff_y, dt] = [{result.x[0 +i*2]:.4f}, {result.x[1 +i*2]:.4f}, {result.x[-1]:.4f}]\\n\")\n",
    "        # print(f\"[dt] = {result.x[0 +i*3]:.4f}\\n\")"
   ]
  },
  {
   "cell_type": "code",
   "execution_count": 69,
   "metadata": {},
   "outputs": [
    {
     "data": {
      "image/png": "[encoded data removed]",
      "text/plain": [
       "<Figure size 1400x200 with 1 Axes>"
      ]
     },
     "metadata": {},
     "output_type": "display_data"
    }
   ],
   "source": [
    "null = [1,1] * NUM_EVO + [1]\n",
    "fig, ax = qml.draw_mpl(circuit)(null, null[-1])"
   ]
  },
  {
   "cell_type": "code",
   "execution_count": 70,
   "metadata": {},
   "outputs": [
    {
     "name": "stdout",
     "output_type": "stream",
     "text": [
      "Optimized_fidelity = 0.9999 \n",
      "\n",
      "num_evo: 1\n",
      "[coeff_x, coeff_y, dt] = [0.1199, 0.8273, 3.0338]\n",
      "\n",
      "num_evo: 2\n",
      "[coeff_x, coeff_y, dt] = [-0.2082, -0.7760, 3.0338]\n",
      "\n",
      "num_evo: 3\n",
      "[coeff_x, coeff_y, dt] = [0.3353, 0.7549, 3.0338]\n",
      "\n",
      "num_evo: 4\n",
      "[coeff_x, coeff_y, dt] = [-0.4520, -0.6159, 3.0338]\n",
      "\n",
      "num_evo: 5\n",
      "[coeff_x, coeff_y, dt] = [0.5673, 0.6602, 3.0338]\n",
      "\n",
      "num_evo: 6\n",
      "[coeff_x, coeff_y, dt] = [-0.6169, -0.5007, 3.0338]\n",
      "\n",
      "num_evo: 7\n",
      "[coeff_x, coeff_y, dt] = [0.7228, 0.4336, 3.0338]\n",
      "\n",
      "num_evo: 8\n",
      "[coeff_x, coeff_y, dt] = [-0.7560, -0.3322, 3.0338]\n",
      "\n",
      "num_evo: 9\n",
      "[coeff_x, coeff_y, dt] = [0.8062, 0.2850, 3.0338]\n",
      "\n",
      "num_evo: 10\n",
      "[coeff_x, coeff_y, dt] = [-0.8195, -0.1331, 3.0338]\n",
      "\n",
      "num_evo: 11\n",
      "[coeff_x, coeff_y, dt] = [0.8466, 0.0092, 3.0338]\n",
      "\n"
     ]
    }
   ],
   "source": [
    "print_result(result)"
   ]
  },
  {
   "cell_type": "code",
   "execution_count": null,
   "metadata": {},
   "outputs": [],
   "source": []
  }
 ],
 "metadata": {
  "kernelspec": {
   "display_name": "Python 3",
   "language": "python",
   "name": "python3"
  },
  "language_info": {
   "codemirror_mode": {
    "name": "ipython",
    "version": 3
   },
   "file_extension": ".py",
   "mimetype": "text/x-python",
   "name": "python",
   "nbconvert_exporter": "python",
   "pygments_lexer": "ipython3",
   "version": "3.10.5"
  }
 },
 "nbformat": 4,
 "nbformat_minor": 2
}
