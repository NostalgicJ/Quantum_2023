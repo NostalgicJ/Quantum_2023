{
 "cells": [
  {
   "cell_type": "code",
   "execution_count": 1,
   "metadata": {},
   "outputs": [],
   "source": [
    "# ==============================\n",
    "# Standard Library Imports\n",
    "# ==============================\n",
    "from enum import Enum\n",
    "import random\n",
    "\n",
    "# ==============================\n",
    "# Third-party Library Imports\n",
    "# ==============================\n",
    "import numpy as np  # Original numpy\n",
    "import pennylane as qml\n",
    "import scipy as sp\n",
    "\n",
    "# Pennylane numpy\n",
    "from pennylane import numpy as pnp "
   ]
  },
  {
   "cell_type": "code",
   "execution_count": 2,
   "metadata": {},
   "outputs": [],
   "source": [
    "# ==============================\n",
    "# Setup for Quantum Computations\n",
    "# ==============================\n",
    "\n",
    "# PennyLane settings\n",
    "dev = qml.device('default.mixed', wires=1)"
   ]
  },
  {
   "cell_type": "code",
   "execution_count": 3,
   "metadata": {},
   "outputs": [],
   "source": [
    "# ==============================\n",
    "# Global Variables\n",
    "# ==============================\n",
    "NUM_EVO = 0"
   ]
  },
  {
   "cell_type": "code",
   "execution_count": 4,
   "metadata": {},
   "outputs": [],
   "source": [
    "def hamiltonian(coeff_x, coeff_y):\n",
    "    coeffs = [coeff_x, coeff_y, 1]\n",
    "    rot = [qml.PauliX(0), qml.PauliY(0), qml.PauliZ(0)]\n",
    "    \n",
    "    return qml.Hamiltonian(coeffs = coeffs, observables = rot)"
   ]
  },
  {
   "cell_type": "markdown",
   "metadata": {},
   "source": [
    "$$\n",
    "H = \n",
    "coeff_{x} \\cdot(X_0) + coeff_{y} \\cdot(Y_0) + 1 \\cdot(Z_0)\n",
    "$$"
   ]
  },
  {
   "cell_type": "code",
   "execution_count": 5,
   "metadata": {},
   "outputs": [],
   "source": [
    "@qml.qnode(dev)\n",
    "def circuit(coeff_parameters, dt):\n",
    "    global NUM_EVO\n",
    "    for evo_idx in range(NUM_EVO):\n",
    "        coeff_x = coeff_parameters[0 + evo_idx * 2]\n",
    "        coeff_y = coeff_parameters[1 + evo_idx * 2]\n",
    "        get_hamiltonian = hamiltonian(coeff_x, coeff_y)\n",
    "        \n",
    "        qml.ApproxTimeEvolution(get_hamiltonian, dt, 1)\n",
    "    \n",
    "    return qml.density_matrix(wires=0)"
   ]
  },
  {
   "cell_type": "code",
   "execution_count": 6,
   "metadata": {},
   "outputs": [],
   "source": [
    "@qml.qnode(dev)\n",
    "def hadamard_test():\n",
    "    qml.Hadamard(wires=0)\n",
    "    \n",
    "    return qml.density_matrix(wires=0)\n",
    "\n",
    "def fidelity(rho_1, rho_2):\n",
    "    stage_1 = sp.linalg.sqrtm(\n",
    "        sp.linalg.sqrtm(rho_1) @ rho_2 @ sp.linalg.sqrtm(rho_1)\n",
    "    )\n",
    "    \n",
    "    return np.trace(stage_1)\n",
    "\n",
    "def cost_function(paras):\n",
    "    # print(paras)\n",
    "    # print(paras[:-1])\n",
    "    # print(paras[-1])\n",
    "    \n",
    "    coeff_parameters = paras[:-1]\n",
    "    dt = paras[-1]\n",
    "    \n",
    "    rho_1 = circuit(coeff_parameters, dt)\n",
    "    rho_2 = hadamard_test().numpy()\n",
    "    \n",
    "    cal_fidelity = fidelity(rho_1, rho_2).real\n",
    "    \n",
    "    return -cal_fidelity\n",
    "\n",
    "def get_prev_sequence_len():\n",
    "    # gets a sequence obtained from a*\n",
    "    example_sequence = np.zeros(6)\n",
    "    \n",
    "    get_length = len(example_sequence)\n",
    "    \n",
    "    return get_length"
   ]
  },
  {
   "cell_type": "code",
   "execution_count": 7,
   "metadata": {},
   "outputs": [],
   "source": [
    "NUM_EVO = get_prev_sequence_len()       # set number of time-evo\n",
    "initial_paras = [1, 1] * NUM_EVO + [3]  # [coeff_x0, coeff_y1], ... [dt]\n",
    "\n",
    "constraints = [\n",
    "    # coeff_x\n",
    "    (-1.5, 1.5),\n",
    "    # coeff_y\n",
    "    (-1.5, 1.5),\n",
    "] * NUM_EVO + [\n",
    "    # dt\n",
    "    (0, 7)\n",
    "]\n",
    "\n",
    "result = sp.optimize.minimize(\n",
    "    fun = cost_function, \n",
    "    x0 = initial_paras,\n",
    "    method = 'L-BFGS-B',\n",
    "    bounds = constraints,\n",
    "    tol = 1e-12,\n",
    "    options={\n",
    "        'ftol': 1e-12, \n",
    "        'gtol': 1e-12\n",
    "        }\n",
    "    )"
   ]
  },
  {
   "cell_type": "code",
   "execution_count": 8,
   "metadata": {},
   "outputs": [],
   "source": [
    "def print_result(result):\n",
    "    global NUM_EVO\n",
    "    print(\"Optimized_fidelity =\", f\"{-result.fun:.4f}\",'\\n')\n",
    "\n",
    "    for i in range(NUM_EVO):\n",
    "        print(f\"num_evo: {i+1}\")\n",
    "        print(f\"[coeff_x, coeff_y, dt] = [{result.x[0 +i*2]:.4f}, {result.x[1 +i*2]:.4f}, {result.x[-1]:.4f}]\\n\")\n",
    "        # print(f\"[dt] = {result.x[0 +i*3]:.4f}\\n\")"
   ]
  },
  {
   "cell_type": "code",
   "execution_count": 9,
   "metadata": {},
   "outputs": [
    {
     "data": {
      "image/png": "[encoded data removed]",
      "text/plain": [
       "<Figure size 900x200 with 1 Axes>"
      ]
     },
     "metadata": {},
     "output_type": "display_data"
    }
   ],
   "source": [
    "null = [1,1] * NUM_EVO + [1]\n",
    "fig, ax = qml.draw_mpl(circuit)(null, null[-1])"
   ]
  },
  {
   "cell_type": "code",
   "execution_count": 10,
   "metadata": {},
   "outputs": [
    {
     "name": "stdout",
     "output_type": "stream",
     "text": [
      "Optimized_fidelity = 0.7071 \n",
      "\n",
      "num_evo: 1\n",
      "[coeff_x, coeff_y, dt] = [0.1509, -0.5796, 0.0000]\n",
      "\n",
      "num_evo: 2\n",
      "[coeff_x, coeff_y, dt] = [1.2155, -0.8711, 0.0000]\n",
      "\n",
      "num_evo: 3\n",
      "[coeff_x, coeff_y, dt] = [0.4256, -0.7475, 0.0000]\n",
      "\n",
      "num_evo: 4\n",
      "[coeff_x, coeff_y, dt] = [0.8571, -0.7700, 0.0000]\n",
      "\n",
      "num_evo: 5\n",
      "[coeff_x, coeff_y, dt] = [0.3573, -1.0589, 0.0000]\n",
      "\n",
      "num_evo: 6\n",
      "[coeff_x, coeff_y, dt] = [0.6062, -0.6076, 0.0000]\n",
      "\n"
     ]
    }
   ],
   "source": [
    "print_result(result)"
   ]
  }
 ],
 "metadata": {
  "kernelspec": {
   "display_name": "Python 3",
   "language": "python",
   "name": "python3"
  },
  "language_info": {
   "codemirror_mode": {
    "name": "ipython",
    "version": 3
   },
   "file_extension": ".py",
   "mimetype": "text/x-python",
   "name": "python",
   "nbconvert_exporter": "python",
   "pygments_lexer": "ipython3",
   "version": "3.10.5"
  }
 },
 "nbformat": 4,
 "nbformat_minor": 2
}
