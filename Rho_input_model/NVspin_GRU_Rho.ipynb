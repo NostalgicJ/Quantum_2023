{
 "cells": [
  {
   "cell_type": "code",
   "execution_count": 97,
   "metadata": {},
   "outputs": [
    {
     "data": {
      "text/html": [
       "<div>\n",
       "<style scoped>\n",
       "    .dataframe tbody tr th:only-of-type {\n",
       "        vertical-align: middle;\n",
       "    }\n",
       "\n",
       "    .dataframe tbody tr th {\n",
       "        vertical-align: top;\n",
       "    }\n",
       "\n",
       "    .dataframe thead th {\n",
       "        text-align: right;\n",
       "    }\n",
       "</style>\n",
       "<table border=\"1\" class=\"dataframe\">\n",
       "  <thead>\n",
       "    <tr style=\"text-align: right;\">\n",
       "      <th></th>\n",
       "      <th>gate length</th>\n",
       "      <th>Theta</th>\n",
       "      <th>Phi</th>\n",
       "      <th>dt</th>\n",
       "      <th>combination</th>\n",
       "      <th>total time</th>\n",
       "      <th>computing time</th>\n",
       "    </tr>\n",
       "  </thead>\n",
       "  <tbody>\n",
       "    <tr>\n",
       "      <th>0</th>\n",
       "      <td>28</td>\n",
       "      <td>2.735711</td>\n",
       "      <td>4.039492</td>\n",
       "      <td>2.6</td>\n",
       "      <td>[3, 3, 2, 2, 4, 4, 1, 1, 3, 3, 2, 2, 4, 4, 1, ...</td>\n",
       "      <td>72.8</td>\n",
       "      <td>310.778138</td>\n",
       "    </tr>\n",
       "    <tr>\n",
       "      <th>1</th>\n",
       "      <td>27</td>\n",
       "      <td>2.351392</td>\n",
       "      <td>3.144720</td>\n",
       "      <td>2.6</td>\n",
       "      <td>[3, 3, 2, 2, 4, 4, 1, 1, 3, 3, 2, 2, 4, 4, 1, ...</td>\n",
       "      <td>70.2</td>\n",
       "      <td>154.942224</td>\n",
       "    </tr>\n",
       "    <tr>\n",
       "      <th>2</th>\n",
       "      <td>9</td>\n",
       "      <td>0.651605</td>\n",
       "      <td>2.406267</td>\n",
       "      <td>2.6</td>\n",
       "      <td>[3, 3, 2, 2, 4, 1, 3, 3, 2]</td>\n",
       "      <td>23.4</td>\n",
       "      <td>34.716638</td>\n",
       "    </tr>\n",
       "    <tr>\n",
       "      <th>3</th>\n",
       "      <td>26</td>\n",
       "      <td>1.866202</td>\n",
       "      <td>2.151823</td>\n",
       "      <td>2.6</td>\n",
       "      <td>[3, 3, 2, 2, 4, 4, 1, 1, 3, 3, 2, 2, 4, 4, 1, ...</td>\n",
       "      <td>67.6</td>\n",
       "      <td>32246.709511</td>\n",
       "    </tr>\n",
       "    <tr>\n",
       "      <th>4</th>\n",
       "      <td>13</td>\n",
       "      <td>1.275023</td>\n",
       "      <td>5.073046</td>\n",
       "      <td>2.6</td>\n",
       "      <td>[3, 2, 2, 4, 4, 1, 1, 1, 3, 3, 2, 4, 4]</td>\n",
       "      <td>33.8</td>\n",
       "      <td>746.064931</td>\n",
       "    </tr>\n",
       "    <tr>\n",
       "      <th>5</th>\n",
       "      <td>10</td>\n",
       "      <td>0.764759</td>\n",
       "      <td>4.357054</td>\n",
       "      <td>2.6</td>\n",
       "      <td>[2, 2, 4, 4, 1, 1, 3, 3, 4, 4]</td>\n",
       "      <td>26.0</td>\n",
       "      <td>18.441947</td>\n",
       "    </tr>\n",
       "    <tr>\n",
       "      <th>6</th>\n",
       "      <td>10</td>\n",
       "      <td>1.090449</td>\n",
       "      <td>4.055338</td>\n",
       "      <td>2.6</td>\n",
       "      <td>[2, 2, 4, 4, 1, 1, 3, 3, 2, 2]</td>\n",
       "      <td>26.0</td>\n",
       "      <td>4.546557</td>\n",
       "    </tr>\n",
       "    <tr>\n",
       "      <th>7</th>\n",
       "      <td>6</td>\n",
       "      <td>0.631097</td>\n",
       "      <td>1.358842</td>\n",
       "      <td>2.6</td>\n",
       "      <td>[2, 4, 4, 1, 1, 3]</td>\n",
       "      <td>15.6</td>\n",
       "      <td>17.810960</td>\n",
       "    </tr>\n",
       "    <tr>\n",
       "      <th>8</th>\n",
       "      <td>26</td>\n",
       "      <td>2.105337</td>\n",
       "      <td>4.268520</td>\n",
       "      <td>2.6</td>\n",
       "      <td>[2, 2, 4, 4, 1, 1, 3, 3, 2, 2, 4, 4, 1, 1, 3, ...</td>\n",
       "      <td>67.6</td>\n",
       "      <td>2225.006986</td>\n",
       "    </tr>\n",
       "    <tr>\n",
       "      <th>9</th>\n",
       "      <td>19</td>\n",
       "      <td>1.532824</td>\n",
       "      <td>1.943521</td>\n",
       "      <td>2.6</td>\n",
       "      <td>[1, 1, 3, 3, 2, 2, 4, 4, 1, 3, 2, 2, 4, 2, 4, ...</td>\n",
       "      <td>49.4</td>\n",
       "      <td>511.429900</td>\n",
       "    </tr>\n",
       "  </tbody>\n",
       "</table>\n",
       "</div>"
      ],
      "text/plain": [
       "   gate length     Theta       Phi   dt  \\\n",
       "0           28  2.735711  4.039492  2.6   \n",
       "1           27  2.351392  3.144720  2.6   \n",
       "2            9  0.651605  2.406267  2.6   \n",
       "3           26  1.866202  2.151823  2.6   \n",
       "4           13  1.275023  5.073046  2.6   \n",
       "5           10  0.764759  4.357054  2.6   \n",
       "6           10  1.090449  4.055338  2.6   \n",
       "7            6  0.631097  1.358842  2.6   \n",
       "8           26  2.105337  4.268520  2.6   \n",
       "9           19  1.532824  1.943521  2.6   \n",
       "\n",
       "                                         combination  total time  \\\n",
       "0  [3, 3, 2, 2, 4, 4, 1, 1, 3, 3, 2, 2, 4, 4, 1, ...        72.8   \n",
       "1  [3, 3, 2, 2, 4, 4, 1, 1, 3, 3, 2, 2, 4, 4, 1, ...        70.2   \n",
       "2                        [3, 3, 2, 2, 4, 1, 3, 3, 2]        23.4   \n",
       "3  [3, 3, 2, 2, 4, 4, 1, 1, 3, 3, 2, 2, 4, 4, 1, ...        67.6   \n",
       "4            [3, 2, 2, 4, 4, 1, 1, 1, 3, 3, 2, 4, 4]        33.8   \n",
       "5                     [2, 2, 4, 4, 1, 1, 3, 3, 4, 4]        26.0   \n",
       "6                     [2, 2, 4, 4, 1, 1, 3, 3, 2, 2]        26.0   \n",
       "7                                 [2, 4, 4, 1, 1, 3]        15.6   \n",
       "8  [2, 2, 4, 4, 1, 1, 3, 3, 2, 2, 4, 4, 1, 1, 3, ...        67.6   \n",
       "9  [1, 1, 3, 3, 2, 2, 4, 4, 1, 3, 2, 2, 4, 2, 4, ...        49.4   \n",
       "\n",
       "   computing time  \n",
       "0      310.778138  \n",
       "1      154.942224  \n",
       "2       34.716638  \n",
       "3    32246.709511  \n",
       "4      746.064931  \n",
       "5       18.441947  \n",
       "6        4.546557  \n",
       "7       17.810960  \n",
       "8     2225.006986  \n",
       "9      511.429900  "
      ]
     },
     "execution_count": 97,
     "metadata": {},
     "output_type": "execute_result"
    }
   ],
   "source": [
    "import numpy as np\n",
    "import pandas as pd\n",
    "import os\n",
    "import matplotlib.pyplot as plt\n",
    "from sklearn.model_selection import train_test_split\n",
    "from tensorflow.keras.models import Model\n",
    "from tensorflow.keras.layers import Input, GRU, Dense, Concatenate, TimeDistributed, RepeatVector\n",
    "from tensorflow.keras.preprocessing.sequence import pad_sequences\n",
    "from tensorflow.keras.optimizers import Adam, SGD, RMSprop\n",
    "from tensorflow.keras.callbacks import EarlyStopping\n",
    "\n",
    "# 데이터 불러오기\n",
    "df = pd.read_csv('../Data/using/dt_2.6/ByAstar_dt_2.6_1016.csv')\n",
    "\n",
    "# 데이터프레임의 행을 셔플\n",
    "df = df.sample(frac=1).reset_index(drop=True)\n",
    "\n",
    "df = df.drop('Case', axis=1)\n",
    "\n",
    "# 'Omega' 열이 있는지 확인하고, 있으면 1, 없으면 2로 설정\n",
    "option_value = 1 if 'Omega' in df.columns else 2\n",
    "\n",
    "df.head(n=10)"
   ]
  },
  {
   "cell_type": "code",
   "execution_count": 98,
   "metadata": {},
   "outputs": [],
   "source": [
    "\n",
    "# df = df.dropna(subset=['combination'])\n"
   ]
  },
  {
   "cell_type": "code",
   "execution_count": 99,
   "metadata": {},
   "outputs": [],
   "source": [
    "import pennylane as qml\n",
    "\n",
    "# Use the mixed state simulator to save some steps in plotting later\n",
    "# default.qubit < default.mixed\n",
    "dev = qml.device('default.mixed', wires=1)\n",
    "@qml.qnode(dev)\n",
    "\n",
    "\n",
    "def making_rho_1(theta, phi, omega):\n",
    "    qml.Rot(phi, theta, omega, wires=0)\n",
    "    return qml.density_matrix(wires=0)"
   ]
  },
  {
   "cell_type": "code",
   "execution_count": 100,
   "metadata": {},
   "outputs": [],
   "source": [
    "from math import *\n",
    "\n",
    "def hermitian_matrix_to_vector(matrix):\n",
    "    \n",
    "    # 행렬의 크기를 가져옴\n",
    "    n = matrix.shape[0]\n",
    "\n",
    "    # 에르미트 행렬인지 확인\n",
    "    assert np.allclose(matrix, matrix.conj().T)\n",
    "\n",
    "    # 상삼각 행렬의 원소를 가져와 벡터로 변환\n",
    "    # vector = np.zeros((n * (n + 1)) // 2, dtype=complex)\n",
    "    vector = np.zeros(n**2, dtype=complex)\n",
    "    \n",
    "    idx = 0\n",
    "    # for i in range(n):\n",
    "    #     for j in range(i + 1):\n",
    "    #         vector[idx] = matrix[i, j]\n",
    "    #         idx += 1\n",
    "    for i in range(n):\n",
    "        for j in range(n):\n",
    "            vector[idx] = matrix[i, j]\n",
    "            idx += 1\n",
    "\n",
    "    return vector\n",
    "\n",
    "# x-rotation operater\n",
    "def Rx(theta):\n",
    "    return np.matrix([  [cos(theta/2),    -1j*sin(theta/2)],\n",
    "                        [-1j*sin(theta/2),    cos(theta/2)]])\n",
    "\n",
    "# z-rotation operater\n",
    "def Rz(phi): \n",
    "    return np.matrix([  [cos(phi/2)-1j*sin(phi/2),  0],\n",
    "                        [0,  cos(phi/2)+1j*sin(phi/2)]])\n",
    "    \n",
    "# Initial state\n",
    "init_wave = np.array([[1], [0]])\n",
    "irho_init = np.kron(init_wave, init_wave.conj().T)\n",
    "\n",
    "\n",
    "def making_rho_2(theta, phi):\n",
    "\n",
    "    # Target state\n",
    "    # Theta must move first and then phi move.\n",
    "    target_U = Rz(theta) @ Rx(phi) \n",
    "    irho_target = target_U @ irho_init @ target_U.conj().T\n",
    "    \n",
    "    return irho_target"
   ]
  },
  {
   "cell_type": "code",
   "execution_count": 101,
   "metadata": {},
   "outputs": [
    {
     "data": {
      "text/plain": [
       "2"
      ]
     },
     "execution_count": 101,
     "metadata": {},
     "output_type": "execute_result"
    }
   ],
   "source": [
    "option_value"
   ]
  },
  {
   "cell_type": "code",
   "execution_count": 102,
   "metadata": {},
   "outputs": [],
   "source": [
    "# Rho 열 추가하고 각 행에 대해 making_rho 함수 호출하여 값 할당\n",
    "if option_value == 1:\n",
    "    df['Rho'] = df.apply(lambda row: hermitian_matrix_to_vector(making_rho_1(row['Theta'], row['Phi'], row['Omega'])), axis=1)\n",
    "else:\n",
    "    df['Rho'] = df.apply(lambda row: hermitian_matrix_to_vector(making_rho_2(row['Theta'], row['Phi'])), axis=1)"
   ]
  },
  {
   "cell_type": "code",
   "execution_count": 103,
   "metadata": {},
   "outputs": [
    {
     "name": "stdout",
     "output_type": "stream",
     "text": [
      "<class 'pandas.core.frame.DataFrame'>\n",
      "RangeIndex: 29528 entries, 0 to 29527\n",
      "Data columns (total 8 columns):\n",
      " #   Column          Non-Null Count  Dtype  \n",
      "---  ------          --------------  -----  \n",
      " 0   gate length     29528 non-null  int64  \n",
      " 1   Theta           29528 non-null  float64\n",
      " 2   Phi             29528 non-null  float64\n",
      " 3   dt              29528 non-null  float64\n",
      " 4   combination     29528 non-null  object \n",
      " 5   total time      29528 non-null  float64\n",
      " 6   computing time  29528 non-null  float64\n",
      " 7   Rho             29528 non-null  object \n",
      "dtypes: float64(5), int64(1), object(2)\n",
      "memory usage: 1.8+ MB\n"
     ]
    }
   ],
   "source": [
    "df.info()"
   ]
  },
  {
   "cell_type": "code",
   "execution_count": 104,
   "metadata": {},
   "outputs": [
    {
     "data": {
      "text/plain": [
       "array([0.72444908-2.75551629e-17j, 0.44606234-2.55146872e-02j,\n",
       "       0.44606234+2.55146872e-02j, 0.27555092-7.89919567e-18j])"
      ]
     },
     "execution_count": 104,
     "metadata": {},
     "output_type": "execute_result"
    }
   ],
   "source": [
    "df['Rho'][10]"
   ]
  },
  {
   "cell_type": "code",
   "execution_count": 105,
   "metadata": {},
   "outputs": [
    {
     "data": {
      "text/plain": [
       "(4,)"
      ]
     },
     "execution_count": 105,
     "metadata": {},
     "output_type": "execute_result"
    }
   ],
   "source": [
    "np.shape(df['Rho'][100])"
   ]
  },
  {
   "cell_type": "code",
   "execution_count": 106,
   "metadata": {},
   "outputs": [],
   "source": [
    "import tensorflow as tf\n",
    "\n",
    "# 데이터셋 분리: train_set 8 : test_set 2\n",
    "train_df, test_df = train_test_split(df, shuffle=True, test_size=0.2)\n",
    "# train_set을 다시 8:2로 나눠서 train_set과 validation_set을 만듦\n",
    "train_df, val_df = train_test_split(train_df, shuffle=True, test_size=0.2)\n",
    "# random_state=42\n",
    "\n",
    "# 모든 시퀀스의 길이 중에서 최대 길이를 구하기\n",
    "all_sequences = [eval(str(seq)) for seq in df['combination'].values]\n",
    "max_seq_length = max([len(seq) for seq in all_sequences])\n",
    "\n",
    "# 각 데이터셋에서 theta, phi, sequence 추출하고 reshape 적용\n",
    "theta_train = train_df['Theta'].values.reshape(-1, 1)\n",
    "phi_train = train_df['Phi'].values.reshape(-1, 1)\n",
    "# rho_train = train_df['Rho'].values.reshape(-1, 1)\n",
    "rho_train_list = train_df['Rho'].apply(lambda x: np.asarray(x).flatten()).tolist()\n",
    "rho_train = tf.constant(np.stack(rho_train_list))\n",
    "sequence_train = pad_sequences(train_df['combination'].apply(eval).tolist(), maxlen=max_seq_length, padding='pre')\n",
    "\n",
    "theta_val = val_df['Theta'].values.reshape(-1, 1)\n",
    "phi_val = val_df['Phi'].values.reshape(-1, 1)\n",
    "# rho_val = val_df['Rho'].values.reshape(-1, 1)\n",
    "rho_val_list = val_df['Rho'].apply(lambda x: np.asarray(x).flatten()).tolist()\n",
    "rho_val = tf.constant(np.stack(rho_val_list))\n",
    "sequence_val = pad_sequences(val_df['combination'].apply(eval).tolist(), maxlen=max_seq_length, padding='pre')\n",
    "\n",
    "theta_test = test_df['Theta'].values.reshape(-1, 1)\n",
    "phi_test = test_df['Phi'].values.reshape(-1, 1)\n",
    "# rho_test = test_df['Rho'].values.reshape(-1, 1)\n",
    "rho_test_list = test_df['Rho'].apply(lambda x: np.asarray(x).flatten()).tolist()\n",
    "rho_test = tf.constant(np.stack(rho_test_list))\n",
    "sequence_test = pad_sequences(test_df['combination'].apply(eval).tolist(), maxlen=max_seq_length, padding='pre')\n"
   ]
  },
  {
   "cell_type": "code",
   "execution_count": 107,
   "metadata": {},
   "outputs": [
    {
     "name": "stdout",
     "output_type": "stream",
     "text": [
      "rho_train shape: (18897, 4)\n",
      "rho_train dtype: <dtype: 'complex128'>\n",
      "rho_val shape: (4725, 4)\n",
      "rho_val dtype: <dtype: 'complex128'>\n",
      "tf.Tensor(\n",
      "[0.95267547-2.66899698e-18j 0.20746497+4.52017778e-02j\n",
      " 0.20746497-4.52017778e-02j 0.04732453+1.06346971e-18j], shape=(4,), dtype=complex128) tf.Tensor(\n",
      "[0.84708765+2.60625310e-17j 0.34637938+9.77317354e-02j\n",
      " 0.34637938-9.77317354e-02j 0.15291235+3.74095948e-18j], shape=(4,), dtype=complex128)\n"
     ]
    }
   ],
   "source": [
    "print(\"rho_train shape:\", rho_train.shape)\n",
    "print(\"rho_train dtype:\", rho_train.dtype)\n",
    "print(\"rho_val shape:\", rho_val.shape)\n",
    "print(\"rho_val dtype:\", rho_val.dtype)\n",
    "print(rho_train[0], rho_train[1])"
   ]
  },
  {
   "cell_type": "code",
   "execution_count": 108,
   "metadata": {},
   "outputs": [
    {
     "ename": "TypeError",
     "evalue": "Exception encountered when calling layer \"rnn_layer\" (type GRU).\n\nInput 'b' of 'MatMul' Op has type float32 that does not match type complex128 of argument 'a'.\n\nCall arguments received by layer \"rnn_layer\" (type GRU):\n  • inputs=tf.Tensor(shape=(None, 35, 4), dtype=complex128)\n  • mask=None\n  • training=None\n  • initial_state=None",
     "output_type": "error",
     "traceback": [
      "\u001b[1;31m---------------------------------------------------------------------------\u001b[0m",
      "\u001b[1;31mTypeError\u001b[0m                                 Traceback (most recent call last)",
      "Cell \u001b[1;32mIn[108], line 11\u001b[0m\n\u001b[0;32m      8\u001b[0m \u001b[38;5;66;03m# 시퀀스를 예측하기 위한 GRU 레이어\u001b[39;00m\n\u001b[0;32m      9\u001b[0m repeated_vector \u001b[38;5;241m=\u001b[39m RepeatVector(max_seq_length)(ds_rho_input)  \u001b[38;5;66;03m# max_sequence_length는 시퀀스의 최대 길이\u001b[39;00m\n\u001b[1;32m---> 11\u001b[0m rnn_layer \u001b[38;5;241m=\u001b[39m \u001b[43mGRU\u001b[49m\u001b[43m(\u001b[49m\u001b[38;5;241;43m256\u001b[39;49m\u001b[43m,\u001b[49m\u001b[43m \u001b[49m\u001b[43mreturn_sequences\u001b[49m\u001b[38;5;241;43m=\u001b[39;49m\u001b[38;5;28;43;01mTrue\u001b[39;49;00m\u001b[43m,\u001b[49m\u001b[43m \u001b[49m\u001b[43mname\u001b[49m\u001b[38;5;241;43m=\u001b[39;49m\u001b[38;5;124;43m'\u001b[39;49m\u001b[38;5;124;43mrnn_layer\u001b[39;49m\u001b[38;5;124;43m'\u001b[39;49m\u001b[43m)\u001b[49m\u001b[43m(\u001b[49m\u001b[43mrepeated_vector\u001b[49m\u001b[43m)\u001b[49m\n\u001b[0;32m     13\u001b[0m output \u001b[38;5;241m=\u001b[39m TimeDistributed(Dense(\u001b[38;5;241m5\u001b[39m, activation\u001b[38;5;241m=\u001b[39m\u001b[38;5;124m'\u001b[39m\u001b[38;5;124msoftmax\u001b[39m\u001b[38;5;124m'\u001b[39m), name\u001b[38;5;241m=\u001b[39m\u001b[38;5;124m'\u001b[39m\u001b[38;5;124moutput_layer\u001b[39m\u001b[38;5;124m'\u001b[39m)(rnn_layer)\n\u001b[0;32m     15\u001b[0m model \u001b[38;5;241m=\u001b[39m Model(inputs\u001b[38;5;241m=\u001b[39m[ds_rho_input], outputs\u001b[38;5;241m=\u001b[39moutput)\n",
      "File \u001b[1;32mc:\\Python310\\lib\\site-packages\\keras\\src\\layers\\rnn\\base_rnn.py:556\u001b[0m, in \u001b[0;36mRNN.__call__\u001b[1;34m(self, inputs, initial_state, constants, **kwargs)\u001b[0m\n\u001b[0;32m    551\u001b[0m inputs, initial_state, constants \u001b[38;5;241m=\u001b[39m rnn_utils\u001b[38;5;241m.\u001b[39mstandardize_args(\n\u001b[0;32m    552\u001b[0m     inputs, initial_state, constants, \u001b[38;5;28mself\u001b[39m\u001b[38;5;241m.\u001b[39m_num_constants\n\u001b[0;32m    553\u001b[0m )\n\u001b[0;32m    555\u001b[0m \u001b[38;5;28;01mif\u001b[39;00m initial_state \u001b[38;5;129;01mis\u001b[39;00m \u001b[38;5;28;01mNone\u001b[39;00m \u001b[38;5;129;01mand\u001b[39;00m constants \u001b[38;5;129;01mis\u001b[39;00m \u001b[38;5;28;01mNone\u001b[39;00m:\n\u001b[1;32m--> 556\u001b[0m     \u001b[38;5;28;01mreturn\u001b[39;00m \u001b[38;5;28msuper\u001b[39m()\u001b[38;5;241m.\u001b[39m\u001b[38;5;21m__call__\u001b[39m(inputs, \u001b[38;5;241m*\u001b[39m\u001b[38;5;241m*\u001b[39mkwargs)\n\u001b[0;32m    558\u001b[0m \u001b[38;5;66;03m# If any of `initial_state` or `constants` are specified and are Keras\u001b[39;00m\n\u001b[0;32m    559\u001b[0m \u001b[38;5;66;03m# tensors, then add them to the inputs and temporarily modify the\u001b[39;00m\n\u001b[0;32m    560\u001b[0m \u001b[38;5;66;03m# input_spec to include them.\u001b[39;00m\n\u001b[0;32m    562\u001b[0m additional_inputs \u001b[38;5;241m=\u001b[39m []\n",
      "File \u001b[1;32mc:\\Python310\\lib\\site-packages\\keras\\src\\utils\\traceback_utils.py:70\u001b[0m, in \u001b[0;36mfilter_traceback.<locals>.error_handler\u001b[1;34m(*args, **kwargs)\u001b[0m\n\u001b[0;32m     67\u001b[0m     filtered_tb \u001b[38;5;241m=\u001b[39m _process_traceback_frames(e\u001b[38;5;241m.\u001b[39m__traceback__)\n\u001b[0;32m     68\u001b[0m     \u001b[38;5;66;03m# To get the full stack trace, call:\u001b[39;00m\n\u001b[0;32m     69\u001b[0m     \u001b[38;5;66;03m# `tf.debugging.disable_traceback_filtering()`\u001b[39;00m\n\u001b[1;32m---> 70\u001b[0m     \u001b[38;5;28;01mraise\u001b[39;00m e\u001b[38;5;241m.\u001b[39mwith_traceback(filtered_tb) \u001b[38;5;28;01mfrom\u001b[39;00m \u001b[38;5;28;01mNone\u001b[39;00m\n\u001b[0;32m     71\u001b[0m \u001b[38;5;28;01mfinally\u001b[39;00m:\n\u001b[0;32m     72\u001b[0m     \u001b[38;5;28;01mdel\u001b[39;00m filtered_tb\n",
      "File \u001b[1;32mc:\\Python310\\lib\\site-packages\\keras\\src\\backend.py:2465\u001b[0m, in \u001b[0;36mdot\u001b[1;34m(x, y)\u001b[0m\n\u001b[0;32m   2463\u001b[0m     out \u001b[38;5;241m=\u001b[39m tf\u001b[38;5;241m.\u001b[39msparse\u001b[38;5;241m.\u001b[39msparse_dense_matmul(x, y)\n\u001b[0;32m   2464\u001b[0m \u001b[38;5;28;01melse\u001b[39;00m:\n\u001b[1;32m-> 2465\u001b[0m     out \u001b[38;5;241m=\u001b[39m \u001b[43mtf\u001b[49m\u001b[38;5;241;43m.\u001b[39;49m\u001b[43mmatmul\u001b[49m\u001b[43m(\u001b[49m\u001b[43mx\u001b[49m\u001b[43m,\u001b[49m\u001b[43m \u001b[49m\u001b[43my\u001b[49m\u001b[43m)\u001b[49m\n\u001b[0;32m   2466\u001b[0m \u001b[38;5;28;01mreturn\u001b[39;00m out\n",
      "\u001b[1;31mTypeError\u001b[0m: Exception encountered when calling layer \"rnn_layer\" (type GRU).\n\nInput 'b' of 'MatMul' Op has type float32 that does not match type complex128 of argument 'a'.\n\nCall arguments received by layer \"rnn_layer\" (type GRU):\n  • inputs=tf.Tensor(shape=(None, 35, 4), dtype=complex128)\n  • mask=None\n  • training=None\n  • initial_state=None"
     ]
    }
   ],
   "source": [
    "import os\n",
    "os.environ[\"CUDA_VISIBLE_DEVICES\"] = \"0\"\n",
    "\n",
    "# 모델 정의\n",
    "\n",
    "ds_rho_input = Input(shape=(4,), name='density_matrix_input')\n",
    "\n",
    "# 시퀀스를 예측하기 위한 GRU 레이어\n",
    "repeated_vector = RepeatVector(max_seq_length)(ds_rho_input)  # max_sequence_length는 시퀀스의 최대 길이\n",
    "\n",
    "rnn_layer = GRU(256, return_sequences=True, name='rnn_layer')(repeated_vector)\n",
    "\n",
    "output = TimeDistributed(Dense(5, activation='softmax'), name='output_layer')(rnn_layer)\n",
    "\n",
    "model = Model(inputs=[ds_rho_input], outputs=output)\n",
    "\n",
    "# 컴파일 및 훈련\n",
    "model.compile(loss='sparse_categorical_crossentropy', optimizer='adam', metrics=['accuracy'])\n",
    "\n",
    "early_stopping = EarlyStopping(monitor='val_loss', patience=50, restore_best_weights=True)\n",
    "\n",
    "history = model.fit([rho_train], np.expand_dims(sequence_train, -1), \n",
    "                    validation_data=([rho_val], np.expand_dims(sequence_val, -1)), \n",
    "                    epochs=500, batch_size=128, callbacks=[early_stopping])\n",
    "\n",
    "# 검증\n",
    "loss, accuracy = model.evaluate([rho_test], np.expand_dims(sequence_test, -1))\n",
    "print(f\"Test Loss: {loss:.4f}\")\n",
    "print(f\"Test Accuracy: {accuracy:.4f}\")\n"
   ]
  },
  {
   "cell_type": "code",
   "execution_count": null,
   "metadata": {},
   "outputs": [],
   "source": [
    "from tensorflow.keras.utils import plot_model\n",
    "\n",
    "# 모델을 이미지 파일로 저장\n",
    "plot_model(model, to_file='model_plot.png', show_shapes=True, show_layer_names=True)\n"
   ]
  },
  {
   "cell_type": "code",
   "execution_count": null,
   "metadata": {},
   "outputs": [
    {
     "data": {
      "image/png": "[encoded data removed]",
      "text/plain": [
       "<Figure size 640x480 with 1 Axes>"
      ]
     },
     "metadata": {},
     "output_type": "display_data"
    },
    {
     "data": {
      "image/png": "[encoded data removed]",
      "text/plain": [
       "<Figure size 640x480 with 1 Axes>"
      ]
     },
     "metadata": {},
     "output_type": "display_data"
    },
    {
     "name": "stdout",
     "output_type": "stream",
     "text": [
      "185/185 [==============================] - 2s 11ms/step - loss: 0.5576 - accuracy: 0.6968\n",
      "Test Accuracy: 69.68\n",
      "Test Loss: 55.76\n"
     ]
    }
   ],
   "source": [
    "def plot_history(history):\n",
    "         # Plot training & validation loss values\n",
    "        plt.plot(history.history['loss'])\n",
    "        plt.plot(history.history['val_loss'])\n",
    "        plt.title('Model loss')\n",
    "        plt.ylabel('Loss')\n",
    "        plt.xlabel('Epoch')\n",
    "        # plt.axis([45, 70, 0, 0.01])\n",
    "        plt.legend(['Train', 'Validation'], loc='upper right')\n",
    "        plt.show()\n",
    "\n",
    "        # Plot training & validation accuracy values\n",
    "        plt.plot(history.history['accuracy'])\n",
    "        plt.plot(history.history['val_accuracy'])\n",
    "        plt.title('Model accuracy')\n",
    "        plt.ylabel('Accuracy')\n",
    "        plt.xlabel('Epoch')\n",
    "        # plt.axis([45, 60, 0.999, 1.0])\n",
    "        plt.legend(['Train', 'Validation'], loc='upper right')\n",
    "        plt.show()\n",
    "\n",
    "def evaluate(model, rho, sequence):\n",
    "    loss, acc = model.evaluate({'density_matrix_input': rho}, np.expand_dims(sequence, -1))\n",
    "    print(\"Test Accuracy: {:.2f}\".format(acc*100))\n",
    "    print(\"Test Loss: {:.2f}\".format(loss*100))\n",
    "\n",
    "# 결과 그래프 그리기\n",
    "plot_history(history)\n",
    "\n",
    "# 모델 성능 평가\n",
    "evaluate(model, rho_test, sequence_test)"
   ]
  },
  {
   "cell_type": "code",
   "execution_count": null,
   "metadata": {},
   "outputs": [
    {
     "name": "stderr",
     "output_type": "stream",
     "text": [
      "c:\\Python310\\lib\\site-packages\\keras\\src\\engine\\training.py:3000: UserWarning: You are saving your model as an HDF5 file via `model.save()`. This file format is considered legacy. We recommend using instead the native Keras format, e.g. `model.save('my_model.keras')`.\n",
      "  saving_api.save_model(\n"
     ]
    }
   ],
   "source": [
    "# 결과를 저장할 디렉토리 생성\n",
    "models_dir = 'saved_models'\n",
    "if not os.path.exists(models_dir):\n",
    "    os.makedirs(models_dir)\n",
    "    \n",
    "# 모델 저장\n",
    "model.save(os.path.join(models_dir, \"NVspin_GRU_model_Rho_ver2.h5\"))\n",
    "\n",
    "# # 모델 불러오기\n",
    "# from tensorflow.keras.models import load_model\n",
    "# loaded_model = load_model(\"SimpleRNN_model.h5\")"
   ]
  },
  {
   "cell_type": "code",
   "execution_count": null,
   "metadata": {},
   "outputs": [
    {
     "name": "stdout",
     "output_type": "stream",
     "text": [
      "WARNING:tensorflow:You are casting an input of type complex128 to an incompatible dtype float32.  This will discard the imaginary part and may not be what you intended.\n",
      "1/1 [==============================] - 0s 394ms/step\n",
      "Results saved to GRU_cuda_results_Rho.csv\n"
     ]
    }
   ],
   "source": [
    "# 테스트 데이터셋에서 10개의 샘플을 무작위로 선택\n",
    "indices = np.random.choice(len(rho_test), 10)\n",
    "\n",
    "theta_samples = np.array(theta_test)[indices]\n",
    "phi_samples = np.array(phi_test)[indices]\n",
    "rho_samples = np.array(rho_test)[indices]\n",
    "sequence_samples = np.array(sequence_test)[indices]\n",
    "\n",
    "# 모델을 사용하여 예측 수행\n",
    "predicted_sequences = model.predict([rho_samples])\n",
    "\n",
    "# 가장 확률이 높은 클래스의 인덱스를 선택\n",
    "predicted_sequences = np.argmax(predicted_sequences, axis=-1)\n",
    "\n",
    "# 결과를 DataFrame으로 변환\n",
    "df_results = pd.DataFrame({\n",
    "    'Theta': theta_samples.ravel(),\n",
    "    'Phi': phi_samples.ravel(),\n",
    "    'Actual Sequence': [list(seq) for seq in sequence_samples],\n",
    "    'Predicted Sequence': [list(seq) for seq in predicted_sequences]\n",
    "})\n",
    "\n",
    "# 결과를 저장할 디렉토리 생성\n",
    "results_dir = 'sample_GRU'\n",
    "if not os.path.exists(results_dir):\n",
    "    os.makedirs(results_dir)\n",
    "\n",
    "# 결과를 CSV 파일로 저장\n",
    "df_results.to_csv(os.path.join(results_dir, 'GRU_cuda_results_Rho_2.csv'), index=False)\n",
    "\n",
    "print(\"Results saved to GRU_cuda_results_Rho_2.csv\")\n"
   ]
  },
  {
   "cell_type": "code",
   "execution_count": null,
   "metadata": {},
   "outputs": [
    {
     "name": "stdout",
     "output_type": "stream",
     "text": [
      "1/1 [==============================] - 0s 29ms/step\n",
      "Sample 1:\n",
      "Theta    : [2.64389947]\n",
      "Phi      : [4.38843935]\n",
      "Actual   : [0 0 0 0 0 0 0 0 2 2 4 4 1 1 3 3 2 2 4 4 1 1 3 3 2 2 4 4 1 1 3 3 2 2 4]\n",
      "Predicted: [0 0 0 0 0 0 0 3 3 2 2 4 4 1 1 3 3 2 2 4 4 1 1 3 3 2 2 4 4 1 3 3 2 2 4]\n",
      "----------\n",
      "Sample 2:\n",
      "Theta    : [3.02185404]\n",
      "Phi      : [3.33612335]\n",
      "Actual   : [0 0 3 2 2 4 4 1 1 3 3 2 2 4 4 1 1 3 3 2 2 4 4 1 1 3 3 2 2 4 4 1 1 1 1]\n",
      "Predicted: [0 0 0 0 2 4 4 0 0 0 0 0 0 0 0 0 1 0 0 0 0 0 0 0 1 0 0 0 0 0 0 0 0 0 0]\n",
      "----------\n",
      "Sample 3:\n",
      "Theta    : [2.40048096]\n",
      "Phi      : [2.29121505]\n",
      "Actual   : [0 0 0 0 0 0 0 0 0 3 3 2 2 4 4 1 1 3 3 2 2 4 4 1 1 3 3 2 2 4 4 1 1 3 3]\n",
      "Predicted: [0 0 0 0 0 0 0 0 0 0 0 2 2 4 4 1 1 3 3 2 2 4 4 1 1 3 3 2 2 4 4 1 1 3 3]\n",
      "----------\n",
      "Sample 4:\n",
      "Theta    : [2.67435862]\n",
      "Phi      : [5.25195599]\n",
      "Actual   : [0 0 4 4 1 1 3 3 2 2 4 4 1 1 3 3 2 2 4 4 1 1 3 3 2 2 4 4 1 1 1 1 3 2 2]\n",
      "Predicted: [0 0 0 0 0 0 0 0 2 4 4 1 1 1 3 3 2 4 4 0 1 1 3 2 2 4 4 1 1 3 3 2 2 4 4]\n",
      "----------\n",
      "Sample 5:\n",
      "Theta    : [2.0121279]\n",
      "Phi      : [2.72604288]\n",
      "Actual   : [0 0 0 0 0 0 0 0 0 3 3 2 2 4 4 1 1 3 3 2 2 4 4 1 1 3 3 2 2 2 4 4 4 1 1]\n",
      "Predicted: [0 0 0 0 0 0 0 0 0 3 0 2 0 0 0 1 0 3 0 2 0 4 1 1 3 3 2 2 4 4 4 1 1 3 2]\n",
      "----------\n",
      "Sample 6:\n",
      "Theta    : [0.51052205]\n",
      "Phi      : [3.28055382]\n",
      "Actual   : [0 0 0 0 0 0 0 0 0 0 0 0 0 0 0 0 0 0 0 0 0 0 0 0 0 0 0 0 0 0 0 1 3 3 2]\n",
      "Predicted: [0 0 0 0 0 0 0 0 0 3 2 2 4 4 0 1 3 3 2 2 4 4 1 1 3 3 2 2 4 4 1 1 3 3 2]\n",
      "----------\n",
      "Sample 7:\n",
      "Theta    : [1.76809653]\n",
      "Phi      : [6.02587389]\n",
      "Actual   : [0 0 0 0 0 0 0 0 0 0 0 0 0 0 0 0 0 4 1 1 3 3 2 2 4 4 1 1 3 3 2 2 4 4 1]\n",
      "Predicted: [0 0 0 0 0 0 0 0 0 0 0 0 0 0 0 0 0 4 1 1 3 3 2 2 4 4 1 1 3 3 2 2 4 4 1]\n",
      "----------\n",
      "Sample 8:\n",
      "Theta    : [2.78961012]\n",
      "Phi      : [4.73259004]\n",
      "Actual   : [0 2 2 4 4 1 1 3 3 2 2 4 4 1 1 3 3 2 2 4 4 1 1 3 3 2 2 4 4 1 0 1 1 3 2]\n",
      "Predicted: [0 0 0 0 0 0 1 3 3 2 2 4 4 1 1 3 3 2 2 4 4 1 1 3 3 2 2 4 4 1 1 0 1 2 0]\n",
      "----------\n",
      "Sample 9:\n",
      "Theta    : [2.5115153]\n",
      "Phi      : [2.05244752]\n",
      "Actual   : [0 0 0 0 0 0 0 0 0 3 3 2 2 4 4 1 1 3 3 2 2 4 4 1 1 3 3 2 2 4 4 1 1 3 3]\n",
      "Predicted: [0 0 0 0 0 0 0 0 0 3 3 2 2 4 4 1 1 3 3 2 2 4 4 1 1 3 3 2 2 4 4 1 1 3 3]\n",
      "----------\n",
      "Sample 10:\n",
      "Theta    : [1.83342319]\n",
      "Phi      : [2.34595277]\n",
      "Actual   : [0 0 0 0 0 0 0 0 0 0 0 0 0 0 0 0 0 3 3 2 2 4 4 1 1 3 3 2 2 4 4 1 1 3 3]\n",
      "Predicted: [0 0 0 0 0 0 0 0 0 0 0 0 0 0 0 0 0 3 3 2 2 4 4 1 1 3 3 2 2 4 4 1 1 3 3]\n",
      "----------\n"
     ]
    }
   ],
   "source": [
    "# 테스트 데이터셋에서 10개의 샘플을 무작위로 선택\n",
    "indices = np.random.choice(len(rho_test), 10)\n",
    "\n",
    "theta_samples = np.array(theta_test)[indices]\n",
    "phi_samples = np.array(phi_test)[indices]\n",
    "rho_samples = np.array(rho_test)[indices]\n",
    "sequence_samples = np.array(sequence_test)[indices]\n",
    "\n",
    "# 모델을 사용하여 예측 수행\n",
    "predicted_sequences = model.predict([rho_samples])\n",
    "\n",
    "# 가장 확률이 높은 클래스의 인덱스를 선택\n",
    "predicted_sequences = np.argmax(predicted_sequences, axis=-1)\n",
    "\n",
    "# 결과 출력\n",
    "for i in range(10):\n",
    "    print(f\"Sample {i + 1}:\")\n",
    "    print(\"Theta    :\", theta_samples[i])\n",
    "    print(\"Phi      :\", phi_samples[i])\n",
    "    print(\"Actual   :\", sequence_samples[i])\n",
    "    print(\"Predicted:\", predicted_sequences[i])\n",
    "    print(\"----------\")\n"
   ]
  }
 ],
 "metadata": {
  "kernelspec": {
   "display_name": "Python 3",
   "language": "python",
   "name": "python3"
  },
  "language_info": {
   "codemirror_mode": {
    "name": "ipython",
    "version": 3
   },
   "file_extension": ".py",
   "mimetype": "text/x-python",
   "name": "python",
   "nbconvert_exporter": "python",
   "pygments_lexer": "ipython3",
   "version": "3.10.5"
  },
  "orig_nbformat": 4
 },
 "nbformat": 4,
 "nbformat_minor": 2
}
