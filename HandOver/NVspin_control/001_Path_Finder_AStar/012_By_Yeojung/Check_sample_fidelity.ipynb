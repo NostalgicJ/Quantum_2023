{
 "cells": [
  {
   "cell_type": "code",
   "execution_count": 20,
   "metadata": {},
   "outputs": [],
   "source": [
    "from math import *\n",
    "import numpy as np\n",
    "from qutip import *\n",
    "from qutip import bloch\n",
    "import matplotlib.pyplot as plt\n",
    "from scipy.linalg import expm\n",
    "from scipy.linalg import fractional_matrix_power\n",
    "import cmath"
   ]
  },
  {
   "cell_type": "code",
   "execution_count": 21,
   "metadata": {},
   "outputs": [],
   "source": [
    "# complex number\n",
    "# j = (-1)**0.5\n",
    " \n",
    "\n",
    "# pauli matrix\n",
    "sx = np.array([[0, 1], [1, 0]])\n",
    "sy = np.array([[0, -1j], [1j, 0]])\n",
    "sz = np.array([[1, 0], [0, -1]])\n",
    "s0 = np.array([[1, 0], [0, 1]])\n",
    "\n",
    "# Detunning Factor\n",
    "d0 = 0.15\n",
    "v0 = 0.02"
   ]
  },
  {
   "cell_type": "code",
   "execution_count": 22,
   "metadata": {},
   "outputs": [],
   "source": [
    "def Rx(theta):\n",
    "    return np.matrix([[cos(theta/2),     -1j*sin(theta/2)],\n",
    "                    [-1j*sin(theta/2),     cos(theta/2)]])\n",
    "\n",
    "def Rz(phi): # Rz는 사용하지 않음. 해밀토니안에 의한 회전으로만 컨트롤\n",
    "    return np.matrix([[cos(phi/2)-1j*sin(phi/2),       0],\n",
    "                     [0,                          cos(phi/2)+1j*sin(phi/2)]])"
   ]
  },
  {
   "cell_type": "code",
   "execution_count": 23,
   "metadata": {},
   "outputs": [],
   "source": [
    "def unitary(dt, choice) :\n",
    "    choice_list = [0,1,-1,1,-1] # x,y-rotiation 방향 선택\n",
    "    if choice <3 :\n",
    "        Ham = (d0*sz+v0*choice_list[choice]*sx)\n",
    "    else :\n",
    "        Ham = (d0*sz+v0*choice_list[choice]*sy)\n",
    "    eigvals = np.linalg.eigh(Ham)[0]\n",
    "    eigvecs = 1*np.linalg.eigh(Ham)[1]\n",
    "    E = np.diag(eigvals)\n",
    "    U_H = eigvecs.conj().T\n",
    "    U_e = U_H.conj().T @ expm(-1j*E*dt) @ U_H\n",
    "    return U_e"
   ]
  },
  {
   "cell_type": "code",
   "execution_count": 24,
   "metadata": {},
   "outputs": [],
   "source": [
    "def state_fidelity(rho_1, rho_2): \n",
    "    if np.shape(rho_1) != np.shape(rho_2):\n",
    "            print(\"Dimensions of two states do not match.\")\n",
    "            return 0\n",
    "    else:\n",
    "        sqrt_rho_1 = fractional_matrix_power(rho_1, 1 / 2)\n",
    "        fidelity = np.trace(fractional_matrix_power(sqrt_rho_1 @ rho_2 @ sqrt_rho_1, 1 / 2)) ** 2\n",
    "        return np.real(fidelity)\n"
   ]
  },
  {
   "cell_type": "code",
   "execution_count": 25,
   "metadata": {},
   "outputs": [
    {
     "name": "stdout",
     "output_type": "stream",
     "text": [
      "35\n"
     ]
    },
    {
     "data": {
      "text/plain": [
       "91.0"
      ]
     },
     "execution_count": 25,
     "metadata": {},
     "output_type": "execute_result"
    }
   ],
   "source": [
    "target_theta, target_phi, dt, combi= pi/2,\tpi,\t2.6,\t[0 ,0 ,0 ,0 ,0 ,0 ,0 ,0 ,0 ,0 ,0 ,0 ,0 ,0 ,0 ,0 ,0 ,3 ,2 ,2 ,4 ,4 ,1 ,1 ,3 ,3 ,2 ,2 ,4 ,4 ,1 ,1 ,3 ,3 ,2]\n",
    "print(len(combi))\n",
    "\n",
    "\n",
    "dt*len(combi)"
   ]
  },
  {
   "cell_type": "code",
   "execution_count": 26,
   "metadata": {},
   "outputs": [],
   "source": [
    "init_wave = np.array([[1],[0]])\n",
    "irho_init = np.kron(init_wave,init_wave.conj().T)\n",
    "\n",
    "target_U = Rz(target_phi) @ Rx(target_theta)\n",
    "irho_target = target_U @ irho_init @target_U.conj().T\n",
    "\n",
    "\n",
    "# 중첩에서 시작할때 필요한 코드\n",
    "# irho_init = Rx(pi/2) @ irho_init @Rx(pi/2).conj().T"
   ]
  },
  {
   "cell_type": "code",
   "execution_count": 27,
   "metadata": {},
   "outputs": [
    {
     "name": "stdout",
     "output_type": "stream",
     "text": [
      "0.9953665755620452\n"
     ]
    }
   ],
   "source": [
    "\n",
    "Uni = s0\n",
    "U_0 = unitary(dt,0)\n",
    "U_1 = unitary(dt,1)\n",
    "U_2 = unitary(dt,2)\n",
    "U_3 = unitary(dt,3)\n",
    "U_4 = unitary(dt,4)\n",
    "pulse_list = [U_0,U_1,U_2,U_3,U_4]\n",
    "for i in combi:\n",
    "    Uni = pulse_list[i] @ Uni\n",
    "\n",
    "irho_final = Uni @ irho_init @ Uni.conj().T\n",
    "print(state_fidelity(irho_final,irho_target))\n"
   ]
  }
 ],
 "metadata": {
  "kernelspec": {
   "display_name": "kist",
   "language": "python",
   "name": "python3"
  },
  "language_info": {
   "codemirror_mode": {
    "name": "ipython",
    "version": 3
   },
   "file_extension": ".py",
   "mimetype": "text/x-python",
   "name": "python",
   "nbconvert_exporter": "python",
   "pygments_lexer": "ipython3",
   "version": "3.10.12"
  },
  "orig_nbformat": 4
 },
 "nbformat": 4,
 "nbformat_minor": 2
}
